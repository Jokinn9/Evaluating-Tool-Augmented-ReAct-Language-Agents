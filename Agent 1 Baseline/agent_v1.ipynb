{
 "cells": [
  {
   "cell_type": "markdown",
   "id": "78afa4a3",
   "metadata": {},
   "source": [
    "# Agent v1"
   ]
  },
  {
   "cell_type": "markdown",
   "id": "46739836",
   "metadata": {},
   "source": [
    "Define a dictionary that contains metal prices per gram in USD. This data will be used as a reference for the model."
   ]
  },
  {
   "cell_type": "code",
   "execution_count": 1,
   "id": "68fca549",
   "metadata": {},
   "outputs": [],
   "source": [
    "#Define the data available for the model\n",
    "metal_data = {\n",
    "    \"unit\":\"gram\",\n",
    "    \"currency\": \"USD\",\n",
    "    \"prices\": {\n",
    "        \"gold\": 88.1553,\n",
    "        \"silver\": 1.0523,\n",
    "        \"platinum\": 32.169,\n",
    "        \"palladium\": 35.8252,\n",
    "        \"copper\": 0.0098,\n",
    "        \"aluminum\": 0.0026,\n",
    "        \"lead\": 0.0021,\n",
    "        \"nickel\": 0.0159,\n",
    "        \"zinc\": 0.0031,\n",
    "    }\n",
    "}"
   ]
  },
  {
   "cell_type": "markdown",
   "id": "ba1cfb28",
   "metadata": {},
   "source": [
    "Define two tools that the agent can call: one to retrieve the current price of a metal, and another to return a simulated currency exchange rate between two currencies."
   ]
  },
  {
   "cell_type": "code",
   "execution_count": 2,
   "id": "aecf1480",
   "metadata": {},
   "outputs": [],
   "source": [
    "from langchain_core.tools import tool\n",
    "\n",
    "# Define the tools for the agent to use, it is necessary to specify that each function is a tool\n",
    "@tool\n",
    "def get_metal_price(metal_name: str) -> str:\n",
    "    \"\"\"Fetches the current per gram in USD price of the specified metal.\n",
    "\n",
    "    Args:\n",
    "        metal_name : The name of the metal (e.g., 'gold', 'silver', 'platinum').\n",
    "\n",
    "    Returns:\n",
    "        float: The current price of the metal in dollars per gram.\n",
    "\n",
    "    Raises:\n",
    "        KeyError: If the specified metal is not found in the data source.\n",
    "    \"\"\"\n",
    "    try:\n",
    "        metal_name = metal_name.lower().strip()\n",
    "        prices = metal_data[\"prices\"]\n",
    "        currency = metal_data[\"currency\"]\n",
    "        unit=metal_data[\"unit\"]\n",
    "        if metal_name not in prices:\n",
    "            raise KeyError(\n",
    "                f\"Metal {metal_name} not found.\"\n",
    "            )\n",
    "        price=prices[metal_name]\n",
    "        return f\"The current price of {metal_name} is {price} {currency} per {unit}.\"\n",
    "    except Exception as e:\n",
    "        raise Exception(f\"Error fetching metal price: {str(e)}\")\n",
    "    \n",
    "@tool    \n",
    "def get_currency_exchange(base: str, target: str) -> str:\n",
    "    \"\"\"\n",
    "    Returns the exchange rate from base currency to target currency.\n",
    "\n",
    "    Args:\n",
    "        base (str): The base currency (e.g., 'USD').\n",
    "        target (str): The target currency (e.g., 'EUR').\n",
    "\n",
    "    Returns:\n",
    "        str: A human-readable string showing the exchange rate,\n",
    "             or an error message if the pair is not found.\n",
    "    \"\"\"\n",
    "    fake_rates = {\n",
    "        (\"usd\", \"eur\"): 0.8,\n",
    "        (\"eur\", \"usd\"): 1.8,\n",
    "        (\"usd\", \"gbp\"): 0.7\n",
    "    }\n",
    "    rate = fake_rates.get((base.lower(), target.lower()))\n",
    "    if rate is None:\n",
    "        return f\"No exchange rate found for {base.upper()} to {target.upper()}\"\n",
    "    return  f\"{base.upper()} = {rate} {target.upper()}\"\n",
    "\n"
   ]
  },
  {
   "cell_type": "markdown",
   "id": "dab0e4ef",
   "metadata": {},
   "source": [
    "Initialise a local LLM with tool support and create a ReAct agent that can decide when to call each tool based on user input. The prompt specifies how the agent should reason when combining metal prices and currency exchange.\n"
   ]
  },
  {
   "cell_type": "code",
   "execution_count": null,
   "id": "6d39daae",
   "metadata": {},
   "outputs": [],
   "source": [
    "from langchain_ollama.chat_models import ChatOllama\n",
    "from langgraph.prebuilt import create_react_agent\n",
    "\n",
    "# Create de model\n",
    "llm = ChatOllama(\n",
    "    model=\"llama3.2\",  \n",
    "    temperature=0\n",
    ")\n",
    "\n",
    "# Link the tools to the LLM\n",
    "tools = [get_metal_price,get_currency_exchange]\n",
    "llm_with_tools = llm.bind_tools(tools)\n",
    "\n",
    "agent = create_react_agent(\n",
    "    model=llm_with_tools,\n",
    "    tools=[get_metal_price, get_currency_exchange],\n",
    "    prompt=\"\"\"\n",
    "You are a ReAct agent. Read carefuly the dataset. For example: \"What is the price of METAL in CURRENCY?\":\n",
    "1. Always call get_metal_price with the name of the metal.\n",
    "2. If the currency is not USD, call get_currency_exchange with base=\"USD\" and target=CURRENCY.\n",
    "3. Use both results to compute and explain the final price.\n",
    "4. If the currency is already USD, you don't need to call get_currency_exchange.\n",
    "\"\"\"\n",
    ")"
   ]
  },
  {
   "cell_type": "markdown",
   "id": "58cfa310",
   "metadata": {},
   "source": [
    "Define the agent's state structure and create the first nodes of the graph: one for tool calls and one for the assistant's response. The assistant node invokes the ReAct agent and updates the conversation with the new messages.\n"
   ]
  },
  {
   "cell_type": "code",
   "execution_count": 4,
   "id": "6ae8959c",
   "metadata": {},
   "outputs": [],
   "source": [
    "from langgraph.prebuilt import ToolNode\n",
    "from langgraph.graph import END\n",
    "from langchain_core.messages import AnyMessage\n",
    "from langgraph.graph.message import add_messages\n",
    "from typing import Annotated\n",
    "from typing_extensions import TypedDict\n",
    "\n",
    "# 1) State\n",
    "class GraphState(TypedDict):\n",
    "    messages: Annotated[list[AnyMessage], add_messages]\n",
    "\n",
    "# 2) Nodes\n",
    "tools = [get_metal_price,get_currency_exchange]\n",
    "tool_node = ToolNode(tools)\n",
    "\n",
    "def assistant(state: GraphState):\n",
    "    result = agent.invoke({\"messages\": state[\"messages\"]})\n",
    "    new_msgs = result[\"messages\"]\n",
    "    return {\"messages\": state[\"messages\"] + new_msgs}"
   ]
  },
  {
   "cell_type": "markdown",
   "id": "836e3c34",
   "metadata": {},
   "source": [
    "Build and compile the graph by connecting the assistant node between the start and end states. This creates a simple one-step interaction flow for the ReAct agent.\n"
   ]
  },
  {
   "cell_type": "code",
   "execution_count": null,
   "id": "6dd42ec5",
   "metadata": {},
   "outputs": [],
   "source": [
    "from langgraph.graph import START, StateGraph\n",
    "from IPython.display import Image, display\n",
    "\n",
    "# Define a new graph for the agent\n",
    "builder = StateGraph(GraphState)\n",
    "\n",
    "# Define the two nodes we will cycle between\n",
    "builder.add_node(\"assistant\", assistant)\n",
    "\n",
    "builder.add_edge(START, \"assistant\")\n",
    "builder.add_edge(\"assistant\", END)\n",
    "\n",
    "# Compile and display the graph for a visual overview\n",
    "react_graph = builder.compile()\n",
    "display(Image(react_graph.get_graph(xray=True).draw_mermaid_png()))"
   ]
  },
  {
   "cell_type": "markdown",
   "id": "c5bfeb8d",
   "metadata": {},
   "source": [
    "### Evaluation\n"
   ]
  },
  {
   "cell_type": "code",
   "execution_count": null,
   "id": "6ad3b642",
   "metadata": {},
   "outputs": [
    {
     "name": "stderr",
     "output_type": "stream",
     "text": [
      "c:\\Users\\eguzk\\anaconda3\\envs\\tfm_env\\lib\\site-packages\\tqdm\\auto.py:21: TqdmWarning: IProgress not found. Please update jupyter and ipywidgets. See https://ipywidgets.readthedocs.io/en/stable/user_install.html\n",
      "  from .autonotebook import tqdm as notebook_tqdm\n"
     ]
    },
    {
     "name": "stdout",
     "output_type": "stream",
     "text": [
      "Saved evaluation results to Results/evaluation_v1.json\n"
     ]
    }
   ],
   "source": [
    "import asyncio\n",
    "import json\n",
    "import sys\n",
    "import os\n",
    "from utils import *\n",
    "\n",
    "with open(\"qa_dataset.json\", \"r\") as f:\n",
    "    qa_dataset = json.load(f)\n",
    "\n",
    "results = asyncio.run(evaluate_agent_with_ragas(react_graph, qa_dataset,\"Results/evaluation_v1.json\"))"
   ]
  }
 ],
 "metadata": {
  "kernelspec": {
   "display_name": "tfm_env",
   "language": "python",
   "name": "python3"
  },
  "language_info": {
   "codemirror_mode": {
    "name": "ipython",
    "version": 3
   },
   "file_extension": ".py",
   "mimetype": "text/x-python",
   "name": "python",
   "nbconvert_exporter": "python",
   "pygments_lexer": "ipython3",
   "version": "3.10.18"
  }
 },
 "nbformat": 4,
 "nbformat_minor": 5
}
