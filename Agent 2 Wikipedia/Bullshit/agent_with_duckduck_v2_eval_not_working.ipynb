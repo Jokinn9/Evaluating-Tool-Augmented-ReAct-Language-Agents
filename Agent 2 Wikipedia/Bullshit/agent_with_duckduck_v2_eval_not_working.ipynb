{
 "cells": [
  {
   "cell_type": "markdown",
   "id": "01e1afaf",
   "metadata": {},
   "source": [
    "Etxeko lanak:\n",
    "- Txukundu mezu final eta emango genuke ontzat agente hau\n",
    "- Sorut beste agente bat erantzunak zuzen ematen dituna"
   ]
  },
  {
   "cell_type": "code",
   "execution_count": 16,
   "id": "68fca549",
   "metadata": {},
   "outputs": [],
   "source": [
    "#Define the data available for the model\n",
    "metal_data = {\n",
    "    \"unit\":\"gram\",\n",
    "    \"currency\": \"USD\",\n",
    "    \"prices\": {\n",
    "        \"gold\": 88.1553,\n",
    "        \"silver\": 1.0523,\n",
    "        \"platinum\": 32.169,\n",
    "        \"palladium\": 35.8252,\n",
    "        \"copper\": 0.0098,\n",
    "        \"aluminum\": 0.0026,\n",
    "        \"lead\": 0.0021,\n",
    "        \"nickel\": 0.0159,\n",
    "        \"zinc\": 0.0031,\n",
    "    }\n",
    "}"
   ]
  },
  {
   "cell_type": "code",
   "execution_count": 17,
   "id": "aecf1480",
   "metadata": {},
   "outputs": [
    {
     "data": {
      "text/plain": [
       "'@tool\\ndef search_duckduckgo(query: str) -> str:\\n\\n    #Performs a DuckDuckGo search using a JSON endpoint and returns the first result snippet.\\n\\n    try:\\n        url = \"https://api.duckduckgo.com/\"\\n        params = {\"q\": query, \"format\": \"json\", \"no_html\": 1, \"skip_disambig\": 1}\\n        resp = requests.get(url, params=params, timeout=10)\\n        data = resp.json()\\n\\n        if \"AbstractText\" in data and data[\"AbstractText\"]:\\n            return data[\"AbstractText\"]\\n        elif data.get(\"RelatedTopics\"):\\n            for topic in data[\"RelatedTopics\"]:\\n                if isinstance(topic, dict) and topic.get(\"Text\"):\\n                    return topic[\"Text\"]\\n        return \"No relevant results found.\"\\n    except Exception as e:\\n        return f\"Search error: {e}\"\\nimport requests'"
      ]
     },
     "execution_count": 17,
     "metadata": {},
     "output_type": "execute_result"
    }
   ],
   "source": [
    "from langchain_core.tools import tool\n",
    "import requests\n",
    "\n",
    "# Define the tools for the agent to use, it is necessary to specify that each function is a tool\n",
    "@tool\n",
    "def get_metal_price(metal_name: str) -> str:\n",
    "    \"\"\"Fetches the current per gram in USD price of the specified metal.\n",
    "\n",
    "    Args:\n",
    "        metal_name : The name of the metal (e.g., 'gold', 'silver', 'platinum').\n",
    "\n",
    "    Returns:\n",
    "        float: The current price of the metal in dollars per gram.\n",
    "\n",
    "    Raises:\n",
    "        KeyError: If the specified metal is not found in the data source.\n",
    "    \"\"\"\n",
    "    try:\n",
    "        metal_name = metal_name.lower().strip()\n",
    "        prices = metal_data[\"prices\"]\n",
    "        currency = metal_data[\"currency\"]\n",
    "        unit=metal_data[\"unit\"]\n",
    "        if metal_name not in prices:\n",
    "            raise KeyError(\n",
    "                f\"Metal {metal_name} not found. Available metals: {', '.join(metal_data['prices'].keys())}\"\n",
    "            )\n",
    "        price=prices[metal_name]\n",
    "        return f\"The current price of {metal_name} is {price} {currency} per {unit}.\"\n",
    "    except Exception as e:\n",
    "        raise Exception(f\"Error fetching metal price: {str(e)}\")\n",
    "    \n",
    "@tool    \n",
    "def get_currency_exchange(base: str, target: str) -> str:\n",
    "    \"\"\"\n",
    "    Returns the exchange rate from base currency to target currency.\n",
    "\n",
    "    Args:\n",
    "        base (str): The base currency (e.g., 'USD').\n",
    "        target (str): The target currency (e.g., 'EUR').\n",
    "\n",
    "    Returns:\n",
    "        str: A human-readable string showing the exchange rate,\n",
    "             or an error message if the pair is not found.\n",
    "    \"\"\"\n",
    "    fake_rates = {\n",
    "        (\"usd\", \"eur\"): 0.8,\n",
    "        (\"eur\", \"usd\"): 1.8,\n",
    "        (\"usd\", \"gbp\"): 0.7\n",
    "    }\n",
    "    rate = fake_rates.get((base.lower(), target.lower()))\n",
    "    if rate is None:\n",
    "        return f\"No exchange rate found for {base.upper()} to {target.upper()}\"\n",
    "    return  f\"{base.upper()} = {rate} {target.upper()}\"\n",
    "\n",
    "@tool\n",
    "def search_wikipedia(query: str) -> str:\n",
    "    \"\"\"Search Wikipedia for a summary related to the query.\"\"\"\n",
    "    url = f\"https://en.wikipedia.org/api/rest_v1/page/summary/{query.replace(' ', '_')}\"\n",
    "    response = requests.get(url, verify=False)\n",
    "    if response.status_code == 200:\n",
    "        data = response.json()\n",
    "        return data.get(\"extract\", \"No summary found.\")\n",
    "    else:\n",
    "        return \"No relevant results found.\"\n",
    "\n",
    "\"\"\"@tool\n",
    "def search_duckduckgo(query: str) -> str:\n",
    "    \n",
    "    #Performs a DuckDuckGo search using a JSON endpoint and returns the first result snippet.\n",
    "    \n",
    "    try:\n",
    "        url = \"https://api.duckduckgo.com/\"\n",
    "        params = {\"q\": query, \"format\": \"json\", \"no_html\": 1, \"skip_disambig\": 1}\n",
    "        resp = requests.get(url, params=params, timeout=10)\n",
    "        data = resp.json()\n",
    "\n",
    "        if \"AbstractText\" in data and data[\"AbstractText\"]:\n",
    "            return data[\"AbstractText\"]\n",
    "        elif data.get(\"RelatedTopics\"):\n",
    "            for topic in data[\"RelatedTopics\"]:\n",
    "                if isinstance(topic, dict) and topic.get(\"Text\"):\n",
    "                    return topic[\"Text\"]\n",
    "        return \"No relevant results found.\"\n",
    "    except Exception as e:\n",
    "        return f\"Search error: {e}\"\n",
    "import requests\"\"\"\n",
    "\n",
    "\n",
    "\n"
   ]
  },
  {
   "cell_type": "code",
   "execution_count": 18,
   "id": "6d39daae",
   "metadata": {},
   "outputs": [],
   "source": [
    "from langchain_ollama.chat_models import ChatOllama\n",
    "from langgraph.prebuilt import create_react_agent\n",
    "\n",
    "# Instanciamos el modelo LLM local usando Ollama (Llama 3.2)\n",
    "llm = ChatOllama(\n",
    "    model=\"llama3.2\",   # Usamos el modelo Llama 3.2 local\n",
    "    temperature=0\n",
    ")\n",
    "\n",
    "# Vinculamos nuestra herramienta al LLM\n",
    "tools = [get_metal_price,get_currency_exchange,search_wikipedia]\n",
    "llm_with_tools = llm.bind_tools(tools)\n",
    "\n",
    "agent = create_react_agent(\n",
    "    model=llm_with_tools,\n",
    "    tools=[get_metal_price, get_currency_exchange,search_wikipedia],\n",
    "    prompt=\"\"\"\n",
    "You are a ReAct agent.\n",
    "\n",
    "For questions about metal prices like \"What is the price of METAL in CUR?\":\n",
    "1) Call `get_metal_price` with the metal name (e.g., \"gold\").\n",
    "2) Then call `get_currency_exchange` with base='USD' and target=CUR.\n",
    "3) Combine both results in a final response with the price converted.\n",
    "\n",
    "For general knowledge or factual questions (e.g., \"Who is the president of France?\"):\n",
    "1) Call `search_wikipedia` with a well-formed query.\n",
    "2) Use the result to respond clearly and concisely.\n",
    "\n",
    "\"\"\"\n",
    ")\n",
    "\n",
    "def answer_from_context(question: str, context: str) -> str:\n",
    "    prompt = (\n",
    "        \"Answer the question ONLY if the context explicitly contains the answer.\\n\"\n",
    "        \"If it is not there, reply with 'NOT_FOUND'.\\n\"\n",
    "        f\"Question: {question}\\nContext: {context}\"\n",
    "    )\n",
    "    return llm.invoke(prompt).content"
   ]
  },
  {
   "cell_type": "markdown",
   "id": "1afa2366",
   "metadata": {},
   "source": [
    "Aquí creamos el objeto ChatOllama de LangChain usando el modelo Llama3.2 local python.langchain.com, y vinculamos la lista de herramientas (sólo get_metal_price) con .bind_tools python.langchain.com. Esto permite que el modelo invoque la herramienta cuando sea necesario."
   ]
  },
  {
   "cell_type": "code",
   "execution_count": 19,
   "id": "6ae8959c",
   "metadata": {},
   "outputs": [],
   "source": [
    "from langgraph.prebuilt import ToolNode\n",
    "from langgraph.graph import END\n",
    "from langchain_core.messages import AnyMessage\n",
    "from langgraph.graph.message import add_messages\n",
    "from typing import Annotated\n",
    "from typing_extensions import TypedDict\n",
    "from langchain.schema.messages import AIMessage,ToolMessage,HumanMessage\n",
    "\n",
    "# 1) State\n",
    "class GraphState(TypedDict):\n",
    "    messages: Annotated[list[AnyMessage], add_messages]\n",
    "\n",
    "def assistant(state: GraphState):\n",
    "    result = agent.invoke({\"messages\": state[\"messages\"]})\n",
    "    new_msgs = result[\"messages\"]\n",
    "    return {\"messages\": state[\"messages\"] + new_msgs}\n",
    "\n",
    "#CAMBIAR ESTO PARA QUE LO ULTIMO ESTÉ BIEN Y A TOMAR POR CULO\n",
    "def verify(state: GraphState):\n",
    "    print(\"verify\")\n",
    "\n",
    "    # Encuentra el índice del último ToolMessage (el contexto de búsqueda)\n",
    "    ctx_idx = max(i for i, m in enumerate(state[\"messages\"]) if isinstance(m, ToolMessage))\n",
    "    ctx = state[\"messages\"][ctx_idx].content\n",
    "\n",
    "    # Pregunta original (primer HumanMessage)\n",
    "    q = next(m.content for m in state[\"messages\"] if isinstance(m, HumanMessage))\n",
    "\n",
    "    # Calcula la respuesta basada en el contexto\n",
    "    ans = answer_from_context(q, ctx).strip()\n",
    "\n",
    "    if ans.upper() == \"NOT_FOUND\":\n",
    "        final = AIMessage(content=\"I could not find that information in the retrieved source.\")\n",
    "    else:\n",
    "        final = AIMessage(content=ans)\n",
    "\n",
    "    # Encuentra el AIMessage anterior que contiene el tool_call (lo eliminamos junto con los siguientes)\n",
    "    first_tool_call_idx = next(\n",
    "        i for i in reversed(range(ctx_idx))\n",
    "        if isinstance(state[\"messages\"][i], AIMessage) and state[\"messages\"][i].tool_calls\n",
    "    )\n",
    "\n",
    "    # Corta el historial justo antes de ese AIMessage\n",
    "    new_history = state[\"messages\"][:first_tool_call_idx]\n",
    "\n",
    "    # Retorna solo el historial limpio más el mensaje final validado\n",
    "    print(\"Nuevo historial final:\", {\"messages\": new_history + [final]})\n",
    "    return {\"messages\": new_history + [final]}\n",
    "\n"
   ]
  },
  {
   "cell_type": "code",
   "execution_count": 20,
   "id": "6dd42ec5",
   "metadata": {},
   "outputs": [
    {
     "data": {
      "image/png": "[encoded data removed]",
      "text/plain": [
       "<IPython.core.display.Image object>"
      ]
     },
     "metadata": {},
     "output_type": "display_data"
    }
   ],
   "source": [
    "from langgraph.graph import START, END, StateGraph\n",
    "\n",
    "builder = StateGraph(GraphState)\n",
    "builder.add_node(\"assistant\", assistant)\n",
    "builder.add_node(\"verify\", verify)\n",
    "\n",
    "builder.add_edge(START, \"assistant\")                         # arranque\n",
    "builder.add_edge(\"assistant\", \"verify\")                          # siempre pasar por verify\n",
    "builder.add_edge(\"verify\", END)                          # siempre pasar por verify\n",
    "\n",
    "react_graph = builder.compile()\n",
    "from IPython.display import Image, display\n",
    "display(Image(react_graph.get_graph(xray=True).draw_mermaid_png()))"
   ]
  },
  {
   "cell_type": "code",
   "execution_count": 21,
   "id": "5252284f",
   "metadata": {},
   "outputs": [],
   "source": [
    "from langchain.schema.messages import AIMessage,ToolMessage,HumanMessage\n",
    "from copy import deepcopy\n",
    "import json\n",
    "import uuid\n",
    "\n",
    "def normalize_args(args):\n",
    "    return {k.lower(): str(v).lower() for k, v in args.items()}\n",
    "\n",
    "def fix_tool_calls_for_openai_format(messages):\n",
    "    final_messages = []\n",
    "    tool_message_buffer = {}\n",
    "    used_tool_call_ids = set()\n",
    "\n",
    "    # Indexar ToolMessages por tool_call_id\n",
    "    for msg in messages:\n",
    "        if isinstance(msg, ToolMessage):\n",
    "            tool_message_buffer[msg.tool_call_id] = msg\n",
    "\n",
    "    for msg in messages:\n",
    "        if isinstance(msg, HumanMessage):\n",
    "            final_messages.append(msg)\n",
    "\n",
    "        elif isinstance(msg, AIMessage) and msg.tool_calls and len(msg.tool_calls) > 1:\n",
    "            for tool_call in msg.tool_calls:\n",
    "                # Normalizar los args aquí\n",
    "                norm_args = normalize_args(tool_call[\"args\"])\n",
    "\n",
    "                new_msg = deepcopy(msg)\n",
    "                new_msg.tool_calls = [{\n",
    "                    \"name\": tool_call[\"name\"],\n",
    "                    \"args\": norm_args,\n",
    "                    \"id\": tool_call.get(\"id\", f\"call_{uuid.uuid4().hex[:24]}\"),\n",
    "                    \"type\": \"tool_call\"\n",
    "                }]\n",
    "                new_msg.additional_kwargs[\"tool_calls\"] = [{\n",
    "                    \"id\": tool_call.get(\"id\", f\"call_{uuid.uuid4().hex[:24]}\"),\n",
    "                    \"type\": \"function\",\n",
    "                    \"function\": {\n",
    "                        \"name\": tool_call[\"name\"],\n",
    "                        \"arguments\": json.dumps(norm_args)\n",
    "                    }\n",
    "                }]\n",
    "                final_messages.append(new_msg)\n",
    "\n",
    "                tool_msg = tool_message_buffer.get(tool_call[\"id\"])\n",
    "                if tool_msg:\n",
    "                    final_messages.append(tool_msg)\n",
    "                    used_tool_call_ids.add(tool_call[\"id\"])\n",
    "\n",
    "        elif isinstance(msg, AIMessage) and msg.tool_calls:\n",
    "            tool_call = msg.tool_calls[0]\n",
    "            norm_args = normalize_args(tool_call[\"args\"])\n",
    "\n",
    "            msg.tool_calls[0][\"args\"] = norm_args\n",
    "            msg.additional_kwargs[\"tool_calls\"] = [{\n",
    "                \"id\": tool_call.get(\"id\", f\"call_{uuid.uuid4().hex[:24]}\"),\n",
    "                \"type\": \"function\",\n",
    "                \"function\": {\n",
    "                    \"name\": tool_call[\"name\"],\n",
    "                    \"arguments\": json.dumps(norm_args)\n",
    "                }\n",
    "            }]\n",
    "            final_messages.append(msg)\n",
    "\n",
    "        elif isinstance(msg, AIMessage):\n",
    "            final_messages.append(msg)\n",
    "\n",
    "        elif isinstance(msg, ToolMessage):\n",
    "            if msg.tool_call_id not in used_tool_call_ids:\n",
    "                final_messages.append(msg)\n",
    "\n",
    "    return final_messages\n"
   ]
  },
  {
   "cell_type": "code",
   "execution_count": 22,
   "id": "84d7d8bb",
   "metadata": {},
   "outputs": [
    {
     "name": "stderr",
     "output_type": "stream",
     "text": [
      "c:\\Users\\eguzk\\anaconda3\\envs\\TFM\\Lib\\site-packages\\urllib3\\connectionpool.py:1097: InsecureRequestWarning: Unverified HTTPS request is being made to host 'en.wikipedia.org'. Adding certificate verification is strongly advised. See: https://urllib3.readthedocs.io/en/latest/advanced-usage.html#tls-warnings\n",
      "  warnings.warn(\n"
     ]
    },
    {
     "name": "stdout",
     "output_type": "stream",
     "text": [
      "verify\n",
      "Nuevo historial final: {'messages': [HumanMessage(content='Who is the president of France?', additional_kwargs={}, response_metadata={}, id='8fa1fac8-f186-45bc-92c7-381aff3d6d56'), AIMessage(content='I could not find that information in the retrieved source.', additional_kwargs={}, response_metadata={})]}\n"
     ]
    },
    {
     "data": {
      "text/plain": [
       "{'messages': [HumanMessage(content='Who is the president of France?', additional_kwargs={}, response_metadata={}, id='8fa1fac8-f186-45bc-92c7-381aff3d6d56'),\n",
       "  AIMessage(content='', additional_kwargs={}, response_metadata={'model': 'llama3.2', 'created_at': '2025-06-01T16:45:09.8030036Z', 'done': True, 'done_reason': 'stop', 'total_duration': 20180482500, 'load_duration': 1575371800, 'prompt_eval_count': 538, 'prompt_eval_duration': 16920644500, 'eval_count': 20, 'eval_duration': 1682849300, 'model_name': 'llama3.2'}, id='run--196feb5f-87c9-409d-8623-931a2d340b72-0', tool_calls=[{'name': 'search_wikipedia', 'args': {'query': 'President of France'}, 'id': '4b7a7287-677d-4fad-9b1d-11fbd67e98ff', 'type': 'tool_call'}], usage_metadata={'input_tokens': 538, 'output_tokens': 20, 'total_tokens': 558}),\n",
       "  ToolMessage(content='The president of France, officially the president of the French Republic, is the executive head of state of France, and the commander-in-chief of the French Armed Forces. As the presidency is the supreme magistracy of the country, the position is the highest office in France. The powers, functions and duties of prior presidential offices, in addition to their relation with the prime minister and government of France, have over time differed with the various constitutional documents since the Second Republic.', name='search_wikipedia', id='a016cbf6-8223-4b46-bea0-7a44f3c2992e', tool_call_id='4b7a7287-677d-4fad-9b1d-11fbd67e98ff'),\n",
       "  AIMessage(content='The current president of France is Emmanuel Macron. He has been serving as the President of France since May 2017.', additional_kwargs={}, response_metadata={'model': 'llama3.2', 'created_at': '2025-06-01T16:45:16.7717491Z', 'done': True, 'done_reason': 'stop', 'total_duration': 6427694600, 'load_duration': 22697800, 'prompt_eval_count': 311, 'prompt_eval_duration': 4257785300, 'eval_count': 25, 'eval_duration': 2143535500, 'model_name': 'llama3.2'}, id='run--f4ff4a98-dc56-4f09-9737-22dfcaa4d32b-0', usage_metadata={'input_tokens': 311, 'output_tokens': 25, 'total_tokens': 336}),\n",
       "  AIMessage(content='I could not find that information in the retrieved source.', additional_kwargs={}, response_metadata={}, id='b348db55-7f7c-4c63-ae2c-6d26c2f894f7')]}"
      ]
     },
     "execution_count": 22,
     "metadata": {},
     "output_type": "execute_result"
    }
   ],
   "source": [
    "result = react_graph.invoke({\"messages\": [HumanMessage(content=\"Who is the president of France?\")]})\n",
    "result"
   ]
  },
  {
   "cell_type": "code",
   "execution_count": 23,
   "id": "d1faa191",
   "metadata": {},
   "outputs": [
    {
     "data": {
      "text/plain": [
       "[HumanMessage(content='Who is the president of France?', additional_kwargs={}, response_metadata={}, id='8fa1fac8-f186-45bc-92c7-381aff3d6d56'),\n",
       " AIMessage(content='', additional_kwargs={'tool_calls': [{'id': '4b7a7287-677d-4fad-9b1d-11fbd67e98ff', 'type': 'function', 'function': {'name': 'search_wikipedia', 'arguments': '{\"query\": \"president of france\"}'}}]}, response_metadata={'model': 'llama3.2', 'created_at': '2025-06-01T16:45:09.8030036Z', 'done': True, 'done_reason': 'stop', 'total_duration': 20180482500, 'load_duration': 1575371800, 'prompt_eval_count': 538, 'prompt_eval_duration': 16920644500, 'eval_count': 20, 'eval_duration': 1682849300, 'model_name': 'llama3.2'}, id='run--196feb5f-87c9-409d-8623-931a2d340b72-0', tool_calls=[{'name': 'search_wikipedia', 'args': {'query': 'president of france'}, 'id': '4b7a7287-677d-4fad-9b1d-11fbd67e98ff', 'type': 'tool_call'}], usage_metadata={'input_tokens': 538, 'output_tokens': 20, 'total_tokens': 558}),\n",
       " ToolMessage(content='The president of France, officially the president of the French Republic, is the executive head of state of France, and the commander-in-chief of the French Armed Forces. As the presidency is the supreme magistracy of the country, the position is the highest office in France. The powers, functions and duties of prior presidential offices, in addition to their relation with the prime minister and government of France, have over time differed with the various constitutional documents since the Second Republic.', name='search_wikipedia', id='a016cbf6-8223-4b46-bea0-7a44f3c2992e', tool_call_id='4b7a7287-677d-4fad-9b1d-11fbd67e98ff'),\n",
       " AIMessage(content='The current president of France is Emmanuel Macron. He has been serving as the President of France since May 2017.', additional_kwargs={}, response_metadata={'model': 'llama3.2', 'created_at': '2025-06-01T16:45:16.7717491Z', 'done': True, 'done_reason': 'stop', 'total_duration': 6427694600, 'load_duration': 22697800, 'prompt_eval_count': 311, 'prompt_eval_duration': 4257785300, 'eval_count': 25, 'eval_duration': 2143535500, 'model_name': 'llama3.2'}, id='run--f4ff4a98-dc56-4f09-9737-22dfcaa4d32b-0', usage_metadata={'input_tokens': 311, 'output_tokens': 25, 'total_tokens': 336}),\n",
       " AIMessage(content='I could not find that information in the retrieved source.', additional_kwargs={}, response_metadata={}, id='b348db55-7f7c-4c63-ae2c-6d26c2f894f7')]"
      ]
     },
     "execution_count": 23,
     "metadata": {},
     "output_type": "execute_result"
    }
   ],
   "source": [
    "ragas_trace=fix_tool_calls_for_openai_format(result[\"messages\"])\n",
    "ragas_trace"
   ]
  },
  {
   "cell_type": "code",
   "execution_count": 9,
   "id": "28f81e51",
   "metadata": {},
   "outputs": [],
   "source": [
    "qa_dataset2 = [\n",
    "    {\n",
    "        \"question\": \"Who is the president of France?\",\n",
    "        \"expected_tool_calls\": [\n",
    "            {\"name\": \"search_wikipedia\", \"args\": {\"query\": \"President of France\"}}\n",
    "        ],\n",
    "        \"expected_substring\": \"Macron\"\n",
    "    }]"
   ]
  },
  {
   "cell_type": "code",
   "execution_count": 10,
   "id": "b4b4d900",
   "metadata": {},
   "outputs": [
    {
     "name": "stderr",
     "output_type": "stream",
     "text": [
      "c:\\Users\\eguzk\\anaconda3\\envs\\TFM\\Lib\\site-packages\\tqdm\\auto.py:21: TqdmWarning: IProgress not found. Please update jupyter and ipywidgets. See https://ipywidgets.readthedocs.io/en/stable/user_install.html\n",
      "  from .autonotebook import tqdm as notebook_tqdm\n"
     ]
    },
    {
     "data": {
      "text/plain": [
       "SingleTurnSample(user_input='Who is the president of France?', retrieved_contexts=['The president of France, officially the president of the French Republic, is the executive head of state of France, and the commander-in-chief of the French Armed Forces. As the presidency is the supreme magistracy of the country, the position is the highest office in France. The powers, functions and duties of prior presidential offices, in addition to their relation with the prime minister and government of France, have over time differed with the various constitutional documents since the Second Republic.'], reference_contexts=None, response='I could not find that information in the retrieved source.', multi_responses=None, reference='Emmanuel Macron', rubrics=None)"
      ]
     },
     "execution_count": 10,
     "metadata": {},
     "output_type": "execute_result"
    }
   ],
   "source": [
    "from ragas.dataset_schema import SingleTurnSample\n",
    "from langchain_core.messages import HumanMessage, AIMessage, ToolMessage\n",
    "\n",
    "# convierte los mensajes de LangChain a SingleTurnSample\n",
    "def lc_to_ragas_sample(lc_msgs) -> SingleTurnSample:\n",
    "    question = next(m.content for m in lc_msgs if isinstance(m, HumanMessage))\n",
    "    answer   = next(\n",
    "        m.content for m in reversed(lc_msgs)\n",
    "        if isinstance(m, AIMessage) and not getattr(m, \"tool_calls\", None)\n",
    "    )\n",
    "    contexts = [m.content for m in lc_msgs if isinstance(m, ToolMessage)]\n",
    "\n",
    "    return SingleTurnSample(\n",
    "        user_input=question,\n",
    "        response=answer,\n",
    "        retrieved_contexts=contexts,\n",
    "        #reference_contexts= contexts,    # lista (puede estar vacía)\n",
    "        reference= \"Emmanuel Macron\"\n",
    "           )\n",
    "\n",
    "# historial de tu agente (por ejemplo result[\"messages\"])\n",
    "ragas_sample = lc_to_ragas_sample(result[\"messages\"])\n",
    "ragas_sample"
   ]
  },
  {
   "cell_type": "code",
   "execution_count": 11,
   "id": "b33311b3",
   "metadata": {},
   "outputs": [
    {
     "data": {
      "text/plain": [
       "EvaluationDataset(features=['user_input', 'retrieved_contexts', 'response', 'reference'], len=1)"
      ]
     },
     "execution_count": 11,
     "metadata": {},
     "output_type": "execute_result"
    }
   ],
   "source": [
    "from ragas import EvaluationDataset\n",
    "\n",
    "ragas_dataset = EvaluationDataset.from_list(\n",
    "    [ragas_sample.model_dump()]          # ← convertir a dict\n",
    ")\n",
    "ragas_dataset"
   ]
  },
  {
   "cell_type": "code",
   "execution_count": null,
   "id": "97457515",
   "metadata": {},
   "outputs": [
    {
     "name": "stderr",
     "output_type": "stream",
     "text": [
      "C:\\Users\\eguzk\\AppData\\Local\\Temp\\ipykernel_20368\\3170254722.py:9: LangChainDeprecationWarning: The class `HuggingFaceEmbeddings` was deprecated in LangChain 0.2.2 and will be removed in 1.0. An updated version of the class exists in the :class:`~langchain-huggingface package and should be used instead. To use it run `pip install -U :class:`~langchain-huggingface` and import as `from :class:`~langchain_huggingface import HuggingFaceEmbeddings``.\n",
      "  embeddings = HuggingFaceEmbeddings(model_name=\"sentence-transformers/all-MiniLM-L6-v2\")\n",
      "Evaluating:   0%|          | 0/3 [00:41<?, ?it/s]\n"
     ]
    }
   ],
   "source": [
    "from ragas.evaluation import evaluate\n",
    "from ragas.metrics import   AnswerRelevancy,ContextPrecision,Faithfulness\n",
    "\n",
    "from ragas.llms import LangchainLLMWrapper\n",
    "from langchain.embeddings import HuggingFaceEmbeddings\n",
    "\n",
    "\n",
    "# Cargar modelo de embeddings open-source\n",
    "embeddings = HuggingFaceEmbeddings(model_name=\"sentence-transformers/all-MiniLM-L6-v2\")\n",
    "\n",
    "# Envolver el modelo local\n",
    "local_llm = ChatOllama(model=\"llama3.2\", temperature=0)\n",
    "wrapped_llm = LangchainLLMWrapper(local_llm)\n",
    "\n",
    "metrics = [AnswerRelevancy(),Faithfulness(), ContextPrecision()]\n",
    "#faithfulness needs ['retrieved_contexts']\n",
    "#ContextPrecision needs reference\n",
    "# Ejecutar la evaluación\n",
    "result_eval = evaluate(\n",
    "    ragas_dataset,\n",
    "    metrics=metrics,\n",
    "    llm=wrapped_llm,\n",
    "    embeddings=embeddings , \n",
    "    #batch_size  = 1, #for each metric it is used the LLM sometimes more than once\n",
    "     #  (more that one prompt) so this way it is only applied one prompt each\n",
    "\n",
    "\n",
    ")\n",
    "#0.954384\t1.0\t1.0\n",
    "# Visualizar resultados\n",
    "result_eval.to_pandas()"
   ]
  },
  {
   "cell_type": "code",
   "execution_count": null,
   "id": "03444f73",
   "metadata": {},
   "outputs": [],
   "source": [
    "from ragas.llms import LangchainLLMWrapper\n",
    "from langchain_ollama.chat_models import ChatOllama\n",
    "\n",
    "\n",
    "# ── wrapper que imprime los prompts que recibe ────────────────────────────\n",
    "class DebugWrapper(LangchainLLMWrapper):\n",
    "    async def agenerate(self, prompts, **kwargs):\n",
    "        print(\"\\n\\n🔹 PROMPTS ENVIADOS AL LLM EVALUADOR 🔹\")\n",
    "        for i, p in enumerate(prompts):\n",
    "            # muestra los 400 primeros caracteres para no saturar\n",
    "            print(f\"\\n--- prompt {i+1} ({len(p.split())} tokens) ---\\n{p[:400]}…\")\n",
    "        # llama al método original para no romper el flujo\n",
    "        return await super().agenerate(prompts, **kwargs)\n",
    "\n",
    "# usa el wrapper-debug\n",
    "wrapped_debug_llm = DebugWrapper(local_llm)\n"
   ]
  }
 ],
 "metadata": {
  "kernelspec": {
   "display_name": "TFM",
   "language": "python",
   "name": "python3"
  },
  "language_info": {
   "codemirror_mode": {
    "name": "ipython",
    "version": 3
   },
   "file_extension": ".py",
   "mimetype": "text/x-python",
   "name": "python",
   "nbconvert_exporter": "python",
   "pygments_lexer": "ipython3",
   "version": "3.13.2"
  }
 },
 "nbformat": 4,
 "nbformat_minor": 5
}
