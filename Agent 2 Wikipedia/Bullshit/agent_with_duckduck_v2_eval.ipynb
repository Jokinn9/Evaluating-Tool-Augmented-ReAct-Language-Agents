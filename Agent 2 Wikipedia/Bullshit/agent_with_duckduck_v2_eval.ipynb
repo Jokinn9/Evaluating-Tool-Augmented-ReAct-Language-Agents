{
 "cells": [
  {
   "cell_type": "code",
   "execution_count": 1,
   "id": "68fca549",
   "metadata": {},
   "outputs": [],
   "source": [
    "#Define the data available for the model\n",
    "metal_data = {\n",
    "    \"unit\":\"gram\",\n",
    "    \"currency\": \"USD\",\n",
    "    \"prices\": {\n",
    "        \"gold\": 88.1553,\n",
    "        \"silver\": 1.0523,\n",
    "        \"platinum\": 32.169,\n",
    "        \"palladium\": 35.8252,\n",
    "        \"copper\": 0.0098,\n",
    "        \"aluminum\": 0.0026,\n",
    "        \"lead\": 0.0021,\n",
    "        \"nickel\": 0.0159,\n",
    "        \"zinc\": 0.0031,\n",
    "    }\n",
    "}"
   ]
  },
  {
   "cell_type": "code",
   "execution_count": 2,
   "id": "aecf1480",
   "metadata": {},
   "outputs": [
    {
     "data": {
      "text/plain": [
       "'@tool\\ndef search_duckduckgo(query: str) -> str:\\n\\n    #Performs a DuckDuckGo search using a JSON endpoint and returns the first result snippet.\\n\\n    try:\\n        url = \"https://api.duckduckgo.com/\"\\n        params = {\"q\": query, \"format\": \"json\", \"no_html\": 1, \"skip_disambig\": 1}\\n        resp = requests.get(url, params=params, timeout=10)\\n        data = resp.json()\\n\\n        if \"AbstractText\" in data and data[\"AbstractText\"]:\\n            return data[\"AbstractText\"]\\n        elif data.get(\"RelatedTopics\"):\\n            for topic in data[\"RelatedTopics\"]:\\n                if isinstance(topic, dict) and topic.get(\"Text\"):\\n                    return topic[\"Text\"]\\n        return \"No relevant results found.\"\\n    except Exception as e:\\n        return f\"Search error: {e}\"\\nimport requests'"
      ]
     },
     "execution_count": 2,
     "metadata": {},
     "output_type": "execute_result"
    }
   ],
   "source": [
    "from langchain_core.tools import tool\n",
    "import requests\n",
    "\n",
    "# Define the tools for the agent to use, it is necessary to specify that each function is a tool\n",
    "@tool\n",
    "def get_metal_price(metal_name: str) -> str:\n",
    "    \"\"\"Fetches the current per gram in USD price of the specified metal.\n",
    "\n",
    "    Args:\n",
    "        metal_name : The name of the metal (e.g., 'gold', 'silver', 'platinum').\n",
    "\n",
    "    Returns:\n",
    "        float: The current price of the metal in dollars per gram.\n",
    "\n",
    "    Raises:\n",
    "        KeyError: If the specified metal is not found in the data source.\n",
    "    \"\"\"\n",
    "    try:\n",
    "        metal_name = metal_name.lower().strip()\n",
    "        prices = metal_data[\"prices\"]\n",
    "        currency = metal_data[\"currency\"]\n",
    "        unit=metal_data[\"unit\"]\n",
    "        if metal_name not in prices:\n",
    "            raise KeyError(\n",
    "                f\"Metal {metal_name} not found. Available metals: {', '.join(metal_data['prices'].keys())}\"\n",
    "            )\n",
    "        price=prices[metal_name]\n",
    "        return f\"The current price of {metal_name} is {price} {currency} per {unit}.\"\n",
    "    except Exception as e:\n",
    "        raise Exception(f\"Error fetching metal price: {str(e)}\")\n",
    "    \n",
    "@tool    \n",
    "def get_currency_exchange(base: str, target: str) -> str:\n",
    "    \"\"\"\n",
    "    Returns the exchange rate from base currency to target currency.\n",
    "\n",
    "    Args:\n",
    "        base (str): The base currency (e.g., 'USD').\n",
    "        target (str): The target currency (e.g., 'EUR').\n",
    "\n",
    "    Returns:\n",
    "        str: A human-readable string showing the exchange rate,\n",
    "             or an error message if the pair is not found.\n",
    "    \"\"\"\n",
    "    fake_rates = {\n",
    "        (\"usd\", \"eur\"): 0.8,\n",
    "        (\"eur\", \"usd\"): 1.8,\n",
    "        (\"usd\", \"gbp\"): 0.7\n",
    "    }\n",
    "    rate = fake_rates.get((base.lower(), target.lower()))\n",
    "    if rate is None:\n",
    "        return f\"No exchange rate found for {base.upper()} to {target.upper()}\"\n",
    "    return  f\"{base.upper()} = {rate} {target.upper()}\"\n",
    "\n",
    "@tool\n",
    "def search_wikipedia(query: str) -> str:\n",
    "    \"\"\"Search Wikipedia for a summary related to the query.\"\"\"\n",
    "    url = f\"https://en.wikipedia.org/api/rest_v1/page/summary/{query.replace(' ', '_')}\"\n",
    "    response = requests.get(url, verify=False)\n",
    "    if response.status_code == 200:\n",
    "        data = response.json()\n",
    "        return data.get(\"extract\", \"No summary found.\")\n",
    "    else:\n",
    "        return \"No relevant results found.\"\n",
    "\n",
    "\"\"\"@tool\n",
    "def search_duckduckgo(query: str) -> str:\n",
    "    \n",
    "    #Performs a DuckDuckGo search using a JSON endpoint and returns the first result snippet.\n",
    "    \n",
    "    try:\n",
    "        url = \"https://api.duckduckgo.com/\"\n",
    "        params = {\"q\": query, \"format\": \"json\", \"no_html\": 1, \"skip_disambig\": 1}\n",
    "        resp = requests.get(url, params=params, timeout=10)\n",
    "        data = resp.json()\n",
    "\n",
    "        if \"AbstractText\" in data and data[\"AbstractText\"]:\n",
    "            return data[\"AbstractText\"]\n",
    "        elif data.get(\"RelatedTopics\"):\n",
    "            for topic in data[\"RelatedTopics\"]:\n",
    "                if isinstance(topic, dict) and topic.get(\"Text\"):\n",
    "                    return topic[\"Text\"]\n",
    "        return \"No relevant results found.\"\n",
    "    except Exception as e:\n",
    "        return f\"Search error: {e}\"\n",
    "import requests\"\"\"\n",
    "\n",
    "\n",
    "\n"
   ]
  },
  {
   "cell_type": "code",
   "execution_count": 3,
   "id": "6d39daae",
   "metadata": {},
   "outputs": [],
   "source": [
    "from langchain_ollama.chat_models import ChatOllama\n",
    "from langgraph.prebuilt import create_react_agent\n",
    "\n",
    "# Instanciamos el modelo LLM local usando Ollama (Llama 3.2)\n",
    "llm = ChatOllama(\n",
    "    model=\"llama3.2\",   # Usamos el modelo Llama 3.2 local\n",
    "    temperature=0\n",
    ")\n",
    "\n",
    "# Vinculamos nuestra herramienta al LLM\n",
    "tools = [get_metal_price,get_currency_exchange,search_wikipedia]\n",
    "llm_with_tools = llm.bind_tools(tools)\n",
    "\n",
    "agent = create_react_agent(\n",
    "    model=llm_with_tools,\n",
    "    tools=[get_metal_price, get_currency_exchange,search_wikipedia],\n",
    "    prompt=\"\"\"\n",
    "You are a ReAct agent.\n",
    "\n",
    "For questions about metal prices like \"What is the price of METAL in CUR?\":\n",
    "1) Call `get_metal_price` with the metal name (e.g., \"gold\").\n",
    "2) Then call `get_currency_exchange` with base='USD' and target=CUR.\n",
    "3) Combine both results in a final response with the price converted.\n",
    "\n",
    "For general knowledge or factual questions (e.g., \"Who is the president of France?\"):\n",
    "1) Call `search_wikipedia` with a well-formed query.\n",
    "2) Use the result to respond clearly and concisely.\n",
    "\n",
    "If the tool result does not explicitly contain the answer, say \"I could not find that information in the retrieved source.\"\n",
    "Do not add content from your own knowledge.\n",
    "\"\"\"\n",
    ")\n",
    "\n",
    "\n"
   ]
  },
  {
   "cell_type": "code",
   "execution_count": 4,
   "id": "6ae8959c",
   "metadata": {},
   "outputs": [],
   "source": [
    "from langgraph.prebuilt import ToolNode\n",
    "from langgraph.graph import END\n",
    "from langchain_core.messages import AnyMessage\n",
    "from langgraph.graph.message import add_messages\n",
    "from typing import Annotated\n",
    "from typing_extensions import TypedDict\n",
    "from langchain.schema.messages import AIMessage,ToolMessage,HumanMessage\n",
    "\n",
    "# 1) State\n",
    "class GraphState(TypedDict):\n",
    "    messages: Annotated[list[AnyMessage], add_messages]\n",
    "\n",
    "def assistant(state: GraphState):\n",
    "    result = agent.invoke({\"messages\": state[\"messages\"]})\n",
    "    new_msgs = result[\"messages\"]\n",
    "    return {\"messages\": state[\"messages\"] + new_msgs}"
   ]
  },
  {
   "cell_type": "code",
   "execution_count": 5,
   "id": "6dd42ec5",
   "metadata": {},
   "outputs": [
    {
     "data": {
      "image/png": "[encoded data removed]",
      "text/plain": [
       "<IPython.core.display.Image object>"
      ]
     },
     "metadata": {},
     "output_type": "display_data"
    }
   ],
   "source": [
    "from langgraph.graph import START, END, StateGraph\n",
    "def verify_next(state: GraphState):\n",
    "    last = state[\"messages\"][-1]\n",
    "    return END if isinstance(last, AIMessage) and not getattr(last, \"tool_calls\", None) else \"assistant\"\n",
    "\n",
    "builder = StateGraph(GraphState)\n",
    "builder.add_node(\"assistant\", assistant)\n",
    "\n",
    "builder.add_edge(START, \"assistant\")                         # arranque\n",
    "builder.add_edge(\"assistant\", END)                          # siempre pasar por verify\n",
    "\n",
    "react_graph = builder.compile()\n",
    "from IPython.display import Image, display\n",
    "display(Image(react_graph.get_graph(xray=True).draw_mermaid_png()))"
   ]
  },
  {
   "cell_type": "code",
   "execution_count": 6,
   "id": "5252284f",
   "metadata": {},
   "outputs": [],
   "source": [
    "from langchain.schema.messages import AIMessage,ToolMessage,HumanMessage\n",
    "from copy import deepcopy\n",
    "import json\n",
    "import uuid\n",
    "\n",
    "def normalize_args(args):\n",
    "    return {k.lower(): str(v).lower() for k, v in args.items()}\n",
    "\n",
    "def fix_tool_calls_for_openai_format(messages):\n",
    "    final_messages = []\n",
    "    tool_message_buffer = {}\n",
    "    used_tool_call_ids = set()\n",
    "\n",
    "    # Indexar ToolMessages por tool_call_id\n",
    "    for msg in messages:\n",
    "        if isinstance(msg, ToolMessage):\n",
    "            tool_message_buffer[msg.tool_call_id] = msg\n",
    "\n",
    "    for msg in messages:\n",
    "        if isinstance(msg, HumanMessage):\n",
    "            final_messages.append(msg)\n",
    "\n",
    "        elif isinstance(msg, AIMessage) and msg.tool_calls and len(msg.tool_calls) > 1:\n",
    "            for tool_call in msg.tool_calls:\n",
    "                # Normalizar los args aquí\n",
    "                norm_args = normalize_args(tool_call[\"args\"])\n",
    "\n",
    "                new_msg = deepcopy(msg)\n",
    "                new_msg.tool_calls = [{\n",
    "                    \"name\": tool_call[\"name\"],\n",
    "                    \"args\": norm_args,\n",
    "                    \"id\": tool_call.get(\"id\", f\"call_{uuid.uuid4().hex[:24]}\"),\n",
    "                    \"type\": \"tool_call\"\n",
    "                }]\n",
    "                new_msg.additional_kwargs[\"tool_calls\"] = [{\n",
    "                    \"id\": tool_call.get(\"id\", f\"call_{uuid.uuid4().hex[:24]}\"),\n",
    "                    \"type\": \"function\",\n",
    "                    \"function\": {\n",
    "                        \"name\": tool_call[\"name\"],\n",
    "                        \"arguments\": json.dumps(norm_args)\n",
    "                    }\n",
    "                }]\n",
    "                final_messages.append(new_msg)\n",
    "\n",
    "                tool_msg = tool_message_buffer.get(tool_call[\"id\"])\n",
    "                if tool_msg:\n",
    "                    final_messages.append(tool_msg)\n",
    "                    used_tool_call_ids.add(tool_call[\"id\"])\n",
    "\n",
    "        elif isinstance(msg, AIMessage) and msg.tool_calls:\n",
    "            tool_call = msg.tool_calls[0]\n",
    "            norm_args = normalize_args(tool_call[\"args\"])\n",
    "\n",
    "            msg.tool_calls[0][\"args\"] = norm_args\n",
    "            msg.additional_kwargs[\"tool_calls\"] = [{\n",
    "                \"id\": tool_call.get(\"id\", f\"call_{uuid.uuid4().hex[:24]}\"),\n",
    "                \"type\": \"function\",\n",
    "                \"function\": {\n",
    "                    \"name\": tool_call[\"name\"],\n",
    "                    \"arguments\": json.dumps(norm_args)\n",
    "                }\n",
    "            }]\n",
    "            final_messages.append(msg)\n",
    "\n",
    "        elif isinstance(msg, AIMessage):\n",
    "            final_messages.append(msg)\n",
    "\n",
    "        elif isinstance(msg, ToolMessage):\n",
    "            if msg.tool_call_id not in used_tool_call_ids:\n",
    "                final_messages.append(msg)\n",
    "\n",
    "    return final_messages\n"
   ]
  },
  {
   "cell_type": "code",
   "execution_count": 7,
   "id": "84d7d8bb",
   "metadata": {},
   "outputs": [
    {
     "name": "stderr",
     "output_type": "stream",
     "text": [
      "c:\\Users\\eguzk\\anaconda3\\envs\\TFM\\Lib\\site-packages\\urllib3\\connectionpool.py:1097: InsecureRequestWarning: Unverified HTTPS request is being made to host 'en.wikipedia.org'. Adding certificate verification is strongly advised. See: https://urllib3.readthedocs.io/en/latest/advanced-usage.html#tls-warnings\n",
      "  warnings.warn(\n"
     ]
    },
    {
     "data": {
      "text/plain": [
       "{'messages': [HumanMessage(content='Who is the president of France?', additional_kwargs={}, response_metadata={}, id='401468af-a415-4cfb-9a65-74739b1ba83e'),\n",
       "  AIMessage(content='', additional_kwargs={}, response_metadata={'model': 'llama3.2', 'created_at': '2025-06-02T13:38:14.7906563Z', 'done': True, 'done_reason': 'stop', 'total_duration': 13922821500, 'load_duration': 33463900, 'prompt_eval_count': 571, 'prompt_eval_duration': 12314152800, 'eval_count': 20, 'eval_duration': 1572082300, 'model_name': 'llama3.2'}, id='run--12116933-f523-41d2-80af-29e9ae770d69-0', tool_calls=[{'name': 'search_wikipedia', 'args': {'query': 'President of France'}, 'id': 'e3b9b22b-2144-455a-a726-15e01a4b9919', 'type': 'tool_call'}], usage_metadata={'input_tokens': 571, 'output_tokens': 20, 'total_tokens': 591}),\n",
       "  ToolMessage(content='The president of France, officially the president of the French Republic, is the executive head of state of France, and the commander-in-chief of the French Armed Forces. As the presidency is the supreme magistracy of the country, the position is the highest office in France. The powers, functions and duties of prior presidential offices, in addition to their relation with the prime minister and government of France, have over time differed with the various constitutional documents since the Second Republic.', name='search_wikipedia', id='606f3217-1cf3-43a6-a42b-ddf8ac50e183', tool_call_id='e3b9b22b-2144-455a-a726-15e01a4b9919'),\n",
       "  AIMessage(content='I could not find that information in the retrieved source.', additional_kwargs={}, response_metadata={'model': 'llama3.2', 'created_at': '2025-06-02T13:38:19.1095099Z', 'done': True, 'done_reason': 'stop', 'total_duration': 3559820700, 'load_duration': 43134800, 'prompt_eval_count': 344, 'prompt_eval_duration': 2655230500, 'eval_count': 12, 'eval_duration': 854371000, 'model_name': 'llama3.2'}, id='run--fbdcac5a-d573-47b4-95f4-b3d2286413e5-0', usage_metadata={'input_tokens': 344, 'output_tokens': 12, 'total_tokens': 356})]}"
      ]
     },
     "execution_count": 7,
     "metadata": {},
     "output_type": "execute_result"
    }
   ],
   "source": [
    "result = react_graph.invoke({\"messages\": [HumanMessage(content=\"Who is the president of France?\")]})\n",
    "result"
   ]
  },
  {
   "cell_type": "code",
   "execution_count": 8,
   "id": "d1faa191",
   "metadata": {},
   "outputs": [
    {
     "data": {
      "text/plain": [
       "[HumanMessage(content='Who is the president of France?', additional_kwargs={}, response_metadata={}, id='401468af-a415-4cfb-9a65-74739b1ba83e'),\n",
       " AIMessage(content='', additional_kwargs={'tool_calls': [{'id': 'e3b9b22b-2144-455a-a726-15e01a4b9919', 'type': 'function', 'function': {'name': 'search_wikipedia', 'arguments': '{\"query\": \"president of france\"}'}}]}, response_metadata={'model': 'llama3.2', 'created_at': '2025-06-02T13:38:14.7906563Z', 'done': True, 'done_reason': 'stop', 'total_duration': 13922821500, 'load_duration': 33463900, 'prompt_eval_count': 571, 'prompt_eval_duration': 12314152800, 'eval_count': 20, 'eval_duration': 1572082300, 'model_name': 'llama3.2'}, id='run--12116933-f523-41d2-80af-29e9ae770d69-0', tool_calls=[{'name': 'search_wikipedia', 'args': {'query': 'president of france'}, 'id': 'e3b9b22b-2144-455a-a726-15e01a4b9919', 'type': 'tool_call'}], usage_metadata={'input_tokens': 571, 'output_tokens': 20, 'total_tokens': 591}),\n",
       " ToolMessage(content='The president of France, officially the president of the French Republic, is the executive head of state of France, and the commander-in-chief of the French Armed Forces. As the presidency is the supreme magistracy of the country, the position is the highest office in France. The powers, functions and duties of prior presidential offices, in addition to their relation with the prime minister and government of France, have over time differed with the various constitutional documents since the Second Republic.', name='search_wikipedia', id='606f3217-1cf3-43a6-a42b-ddf8ac50e183', tool_call_id='e3b9b22b-2144-455a-a726-15e01a4b9919'),\n",
       " AIMessage(content='I could not find that information in the retrieved source.', additional_kwargs={}, response_metadata={'model': 'llama3.2', 'created_at': '2025-06-02T13:38:19.1095099Z', 'done': True, 'done_reason': 'stop', 'total_duration': 3559820700, 'load_duration': 43134800, 'prompt_eval_count': 344, 'prompt_eval_duration': 2655230500, 'eval_count': 12, 'eval_duration': 854371000, 'model_name': 'llama3.2'}, id='run--fbdcac5a-d573-47b4-95f4-b3d2286413e5-0', usage_metadata={'input_tokens': 344, 'output_tokens': 12, 'total_tokens': 356})]"
      ]
     },
     "execution_count": 8,
     "metadata": {},
     "output_type": "execute_result"
    }
   ],
   "source": [
    "ragas_trace=fix_tool_calls_for_openai_format(result[\"messages\"])\n",
    "ragas_trace"
   ]
  },
  {
   "cell_type": "code",
   "execution_count": 9,
   "id": "28f81e51",
   "metadata": {},
   "outputs": [],
   "source": [
    "qa_dataset2 = [\n",
    "    {\n",
    "        \"question\": \"Who is the president of France?\",\n",
    "        \"expected_tool_calls\": [\n",
    "            {\"name\": \"search_wikipedia\", \"args\": {\"query\": \"President of France\"}}\n",
    "        ],\n",
    "        \"expected_substring\": \"Macron\"\n",
    "    }]"
   ]
  },
  {
   "cell_type": "code",
   "execution_count": 10,
   "id": "b4b4d900",
   "metadata": {},
   "outputs": [
    {
     "name": "stderr",
     "output_type": "stream",
     "text": [
      "c:\\Users\\eguzk\\anaconda3\\envs\\TFM\\Lib\\site-packages\\tqdm\\auto.py:21: TqdmWarning: IProgress not found. Please update jupyter and ipywidgets. See https://ipywidgets.readthedocs.io/en/stable/user_install.html\n",
      "  from .autonotebook import tqdm as notebook_tqdm\n"
     ]
    },
    {
     "data": {
      "text/plain": [
       "SingleTurnSample(user_input='Who is the president of France?', retrieved_contexts=['The president of France, officially the president of the French Republic, is the executive head of state of France, and the commander-in-chief of the French Armed Forces. As the presidency is the supreme magistracy of the country, the position is the highest office in France. The powers, functions and duties of prior presidential offices, in addition to their relation with the prime minister and government of France, have over time differed with the various constitutional documents since the Second Republic.'], reference_contexts=None, response='I could not find that information in the retrieved source.', multi_responses=None, reference='Emmanuel Macron', rubrics=None)"
      ]
     },
     "execution_count": 10,
     "metadata": {},
     "output_type": "execute_result"
    }
   ],
   "source": [
    "from ragas.dataset_schema import SingleTurnSample\n",
    "from langchain_core.messages import HumanMessage, AIMessage, ToolMessage\n",
    "\n",
    "# convierte los mensajes de LangChain a SingleTurnSample\n",
    "def lc_to_ragas_sample(lc_msgs) -> SingleTurnSample:\n",
    "    question = next(m.content for m in lc_msgs if isinstance(m, HumanMessage))\n",
    "    answer   = next(\n",
    "        m.content for m in reversed(lc_msgs)\n",
    "        if isinstance(m, AIMessage) and not getattr(m, \"tool_calls\", None)\n",
    "    )\n",
    "    contexts = [m.content for m in lc_msgs if isinstance(m, ToolMessage)]\n",
    "    retrieved_contexts = [\"The current president of France is Emmanuel Macron, who has been serving since May 2017.\"]\n",
    "\n",
    "    return SingleTurnSample(\n",
    "        user_input=question,\n",
    "        response=answer,\n",
    "        retrieved_contexts=contexts,\n",
    "        #reference_contexts= contexts,    # lista (puede estar vacía)\n",
    "        reference= \"Emmanuel Macron\"\n",
    "           )\n",
    "\n",
    "# historial de tu agente (por ejemplo result[\"messages\"])\n",
    "ragas_sample = lc_to_ragas_sample(result[\"messages\"])\n",
    "ragas_sample"
   ]
  },
  {
   "cell_type": "code",
   "execution_count": 11,
   "id": "b33311b3",
   "metadata": {},
   "outputs": [
    {
     "data": {
      "text/plain": [
       "EvaluationDataset(features=['user_input', 'retrieved_contexts', 'response', 'reference'], len=1)"
      ]
     },
     "execution_count": 11,
     "metadata": {},
     "output_type": "execute_result"
    }
   ],
   "source": [
    "from ragas import EvaluationDataset\n",
    "\n",
    "ragas_dataset = EvaluationDataset.from_list(\n",
    "    [ragas_sample.model_dump()]          # ← convertir a dict\n",
    ")\n",
    "ragas_dataset"
   ]
  },
  {
   "cell_type": "code",
   "execution_count": 12,
   "id": "97457515",
   "metadata": {},
   "outputs": [
    {
     "name": "stderr",
     "output_type": "stream",
     "text": [
      "C:\\Users\\eguzk\\AppData\\Local\\Temp\\ipykernel_20260\\2304575410.py:8: LangChainDeprecationWarning: The class `HuggingFaceEmbeddings` was deprecated in LangChain 0.2.2 and will be removed in 1.0. An updated version of the class exists in the :class:`~langchain-huggingface package and should be used instead. To use it run `pip install -U :class:`~langchain-huggingface` and import as `from :class:`~langchain_huggingface import HuggingFaceEmbeddings``.\n",
      "  embeddings = HuggingFaceEmbeddings(model_name=\"sentence-transformers/all-MiniLM-L6-v2\")\n",
      "Evaluating:  33%|███▎      | 1/3 [02:34<05:08, 154.04s/it]\n"
     ]
    },
    {
     "ename": "KeyboardInterrupt",
     "evalue": "",
     "output_type": "error",
     "traceback": [
      "\u001b[31m---------------------------------------------------------------------------\u001b[39m",
      "\u001b[31mKeyboardInterrupt\u001b[39m                         Traceback (most recent call last)",
      "\u001b[36mCell\u001b[39m\u001b[36m \u001b[39m\u001b[32mIn[12]\u001b[39m\u001b[32m, line 18\u001b[39m\n\u001b[32m     14\u001b[39m metrics = [AnswerRelevancy(),Faithfulness(), ContextPrecision()]\n\u001b[32m     15\u001b[39m \u001b[38;5;66;03m#faithfulness needs ['retrieved_contexts']\u001b[39;00m\n\u001b[32m     16\u001b[39m \u001b[38;5;66;03m#ContextPrecision needs reference\u001b[39;00m\n\u001b[32m     17\u001b[39m \u001b[38;5;66;03m# Ejecutar la evaluación\u001b[39;00m\n\u001b[32m---> \u001b[39m\u001b[32m18\u001b[39m result_eval = \u001b[43mevaluate\u001b[49m\u001b[43m(\u001b[49m\n\u001b[32m     19\u001b[39m \u001b[43m    \u001b[49m\u001b[43mragas_dataset\u001b[49m\u001b[43m,\u001b[49m\n\u001b[32m     20\u001b[39m \u001b[43m    \u001b[49m\u001b[43mmetrics\u001b[49m\u001b[43m=\u001b[49m\u001b[43mmetrics\u001b[49m\u001b[43m,\u001b[49m\n\u001b[32m     21\u001b[39m \u001b[43m    \u001b[49m\u001b[43mllm\u001b[49m\u001b[43m=\u001b[49m\u001b[43mwrapped_llm\u001b[49m\u001b[43m,\u001b[49m\n\u001b[32m     22\u001b[39m \u001b[43m    \u001b[49m\u001b[43membeddings\u001b[49m\u001b[43m=\u001b[49m\u001b[43membeddings\u001b[49m\u001b[43m \u001b[49m\u001b[43m,\u001b[49m\u001b[43m \u001b[49m\n\u001b[32m     23\u001b[39m \u001b[43m    \u001b[49m\u001b[43mbatch_size\u001b[49m\u001b[43m  \u001b[49m\u001b[43m=\u001b[49m\u001b[43m \u001b[49m\u001b[32;43m1\u001b[39;49m\u001b[43m,\u001b[49m\u001b[43m \u001b[49m\u001b[38;5;66;43;03m#for each metric it is used the LLM sometimes more than once\u001b[39;49;00m\n\u001b[32m     24\u001b[39m \u001b[43m     \u001b[49m\u001b[38;5;66;43;03m#  (more that one prompt) so this way it is only applied one prompt each\u001b[39;49;00m\n\u001b[32m     25\u001b[39m \n\u001b[32m     26\u001b[39m \n\u001b[32m     27\u001b[39m \u001b[43m)\u001b[49m\n\u001b[32m     28\u001b[39m \u001b[38;5;66;03m#0.954384\t1.0\t1.0\u001b[39;00m\n\u001b[32m     29\u001b[39m \u001b[38;5;66;03m# Visualizar resultados\u001b[39;00m\n\u001b[32m     30\u001b[39m result_eval.to_pandas()\n",
      "\u001b[36mFile \u001b[39m\u001b[32mc:\\Users\\eguzk\\anaconda3\\envs\\TFM\\Lib\\site-packages\\ragas\\_analytics.py:227\u001b[39m, in \u001b[36mtrack_was_completed.<locals>.wrapper\u001b[39m\u001b[34m(*args, **kwargs)\u001b[39m\n\u001b[32m    224\u001b[39m \u001b[38;5;129m@wraps\u001b[39m(func)\n\u001b[32m    225\u001b[39m \u001b[38;5;28;01mdef\u001b[39;00m\u001b[38;5;250m \u001b[39m\u001b[34mwrapper\u001b[39m(*args: P.args, **kwargs: P.kwargs) -> t.Any:\n\u001b[32m    226\u001b[39m     track(IsCompleteEvent(event_type=func.\u001b[34m__name__\u001b[39m, is_completed=\u001b[38;5;28;01mFalse\u001b[39;00m))\n\u001b[32m--> \u001b[39m\u001b[32m227\u001b[39m     result = \u001b[43mfunc\u001b[49m\u001b[43m(\u001b[49m\u001b[43m*\u001b[49m\u001b[43margs\u001b[49m\u001b[43m,\u001b[49m\u001b[43m \u001b[49m\u001b[43m*\u001b[49m\u001b[43m*\u001b[49m\u001b[43mkwargs\u001b[49m\u001b[43m)\u001b[49m\n\u001b[32m    228\u001b[39m     track(IsCompleteEvent(event_type=func.\u001b[34m__name__\u001b[39m, is_completed=\u001b[38;5;28;01mTrue\u001b[39;00m))\n\u001b[32m    230\u001b[39m     \u001b[38;5;28;01mreturn\u001b[39;00m result\n",
      "\u001b[36mFile \u001b[39m\u001b[32mc:\\Users\\eguzk\\anaconda3\\envs\\TFM\\Lib\\site-packages\\ragas\\evaluation.py:299\u001b[39m, in \u001b[36mevaluate\u001b[39m\u001b[34m(dataset, metrics, llm, embeddings, experiment_name, callbacks, run_config, token_usage_parser, raise_exceptions, column_map, show_progress, batch_size, _run_id, _pbar)\u001b[39m\n\u001b[32m    296\u001b[39m scores: t.List[t.Dict[\u001b[38;5;28mstr\u001b[39m, t.Any]] = []\n\u001b[32m    297\u001b[39m \u001b[38;5;28;01mtry\u001b[39;00m:\n\u001b[32m    298\u001b[39m     \u001b[38;5;66;03m# get the results\u001b[39;00m\n\u001b[32m--> \u001b[39m\u001b[32m299\u001b[39m     results = \u001b[43mexecutor\u001b[49m\u001b[43m.\u001b[49m\u001b[43mresults\u001b[49m\u001b[43m(\u001b[49m\u001b[43m)\u001b[49m\n\u001b[32m    300\u001b[39m     \u001b[38;5;28;01mif\u001b[39;00m results == []:\n\u001b[32m    301\u001b[39m         \u001b[38;5;28;01mraise\u001b[39;00m ExceptionInRunner()\n",
      "\u001b[36mFile \u001b[39m\u001b[32mc:\\Users\\eguzk\\anaconda3\\envs\\TFM\\Lib\\site-packages\\ragas\\executor.py:213\u001b[39m, in \u001b[36mExecutor.results\u001b[39m\u001b[34m(self)\u001b[39m\n\u001b[32m    210\u001b[39m             nest_asyncio.apply()\n\u001b[32m    211\u001b[39m             \u001b[38;5;28mself\u001b[39m._nest_asyncio_applied = \u001b[38;5;28;01mTrue\u001b[39;00m\n\u001b[32m--> \u001b[39m\u001b[32m213\u001b[39m results = \u001b[43masyncio\u001b[49m\u001b[43m.\u001b[49m\u001b[43mrun\u001b[49m\u001b[43m(\u001b[49m\u001b[38;5;28;43mself\u001b[39;49m\u001b[43m.\u001b[49m\u001b[43m_process_jobs\u001b[49m\u001b[43m(\u001b[49m\u001b[43m)\u001b[49m\u001b[43m)\u001b[49m\n\u001b[32m    214\u001b[39m sorted_results = \u001b[38;5;28msorted\u001b[39m(results, key=\u001b[38;5;28;01mlambda\u001b[39;00m x: x[\u001b[32m0\u001b[39m])\n\u001b[32m    215\u001b[39m \u001b[38;5;28;01mreturn\u001b[39;00m [r[\u001b[32m1\u001b[39m] \u001b[38;5;28;01mfor\u001b[39;00m r \u001b[38;5;129;01min\u001b[39;00m sorted_results]\n",
      "\u001b[36mFile \u001b[39m\u001b[32mc:\\Users\\eguzk\\anaconda3\\envs\\TFM\\Lib\\site-packages\\nest_asyncio.py:30\u001b[39m, in \u001b[36m_patch_asyncio.<locals>.run\u001b[39m\u001b[34m(main, debug)\u001b[39m\n\u001b[32m     28\u001b[39m task = asyncio.ensure_future(main)\n\u001b[32m     29\u001b[39m \u001b[38;5;28;01mtry\u001b[39;00m:\n\u001b[32m---> \u001b[39m\u001b[32m30\u001b[39m     \u001b[38;5;28;01mreturn\u001b[39;00m \u001b[43mloop\u001b[49m\u001b[43m.\u001b[49m\u001b[43mrun_until_complete\u001b[49m\u001b[43m(\u001b[49m\u001b[43mtask\u001b[49m\u001b[43m)\u001b[49m\n\u001b[32m     31\u001b[39m \u001b[38;5;28;01mfinally\u001b[39;00m:\n\u001b[32m     32\u001b[39m     \u001b[38;5;28;01mif\u001b[39;00m \u001b[38;5;129;01mnot\u001b[39;00m task.done():\n",
      "\u001b[36mFile \u001b[39m\u001b[32mc:\\Users\\eguzk\\anaconda3\\envs\\TFM\\Lib\\site-packages\\nest_asyncio.py:92\u001b[39m, in \u001b[36m_patch_loop.<locals>.run_until_complete\u001b[39m\u001b[34m(self, future)\u001b[39m\n\u001b[32m     90\u001b[39m     f._log_destroy_pending = \u001b[38;5;28;01mFalse\u001b[39;00m\n\u001b[32m     91\u001b[39m \u001b[38;5;28;01mwhile\u001b[39;00m \u001b[38;5;129;01mnot\u001b[39;00m f.done():\n\u001b[32m---> \u001b[39m\u001b[32m92\u001b[39m     \u001b[38;5;28;43mself\u001b[39;49m\u001b[43m.\u001b[49m\u001b[43m_run_once\u001b[49m\u001b[43m(\u001b[49m\u001b[43m)\u001b[49m\n\u001b[32m     93\u001b[39m     \u001b[38;5;28;01mif\u001b[39;00m \u001b[38;5;28mself\u001b[39m._stopping:\n\u001b[32m     94\u001b[39m         \u001b[38;5;28;01mbreak\u001b[39;00m\n",
      "\u001b[36mFile \u001b[39m\u001b[32mc:\\Users\\eguzk\\anaconda3\\envs\\TFM\\Lib\\site-packages\\nest_asyncio.py:115\u001b[39m, in \u001b[36m_patch_loop.<locals>._run_once\u001b[39m\u001b[34m(self)\u001b[39m\n\u001b[32m    108\u001b[39m     heappop(scheduled)\n\u001b[32m    110\u001b[39m timeout = (\n\u001b[32m    111\u001b[39m     \u001b[32m0\u001b[39m \u001b[38;5;28;01mif\u001b[39;00m ready \u001b[38;5;129;01mor\u001b[39;00m \u001b[38;5;28mself\u001b[39m._stopping\n\u001b[32m    112\u001b[39m     \u001b[38;5;28;01melse\u001b[39;00m \u001b[38;5;28mmin\u001b[39m(\u001b[38;5;28mmax\u001b[39m(\n\u001b[32m    113\u001b[39m         scheduled[\u001b[32m0\u001b[39m]._when - \u001b[38;5;28mself\u001b[39m.time(), \u001b[32m0\u001b[39m), \u001b[32m86400\u001b[39m) \u001b[38;5;28;01mif\u001b[39;00m scheduled\n\u001b[32m    114\u001b[39m     \u001b[38;5;28;01melse\u001b[39;00m \u001b[38;5;28;01mNone\u001b[39;00m)\n\u001b[32m--> \u001b[39m\u001b[32m115\u001b[39m event_list = \u001b[38;5;28;43mself\u001b[39;49m\u001b[43m.\u001b[49m\u001b[43m_selector\u001b[49m\u001b[43m.\u001b[49m\u001b[43mselect\u001b[49m\u001b[43m(\u001b[49m\u001b[43mtimeout\u001b[49m\u001b[43m)\u001b[49m\n\u001b[32m    116\u001b[39m \u001b[38;5;28mself\u001b[39m._process_events(event_list)\n\u001b[32m    118\u001b[39m end_time = \u001b[38;5;28mself\u001b[39m.time() + \u001b[38;5;28mself\u001b[39m._clock_resolution\n",
      "\u001b[36mFile \u001b[39m\u001b[32mc:\\Users\\eguzk\\anaconda3\\envs\\TFM\\Lib\\selectors.py:314\u001b[39m, in \u001b[36mSelectSelector.select\u001b[39m\u001b[34m(self, timeout)\u001b[39m\n\u001b[32m    312\u001b[39m ready = []\n\u001b[32m    313\u001b[39m \u001b[38;5;28;01mtry\u001b[39;00m:\n\u001b[32m--> \u001b[39m\u001b[32m314\u001b[39m     r, w, _ = \u001b[38;5;28;43mself\u001b[39;49m\u001b[43m.\u001b[49m\u001b[43m_select\u001b[49m\u001b[43m(\u001b[49m\u001b[38;5;28;43mself\u001b[39;49m\u001b[43m.\u001b[49m\u001b[43m_readers\u001b[49m\u001b[43m,\u001b[49m\u001b[43m \u001b[49m\u001b[38;5;28;43mself\u001b[39;49m\u001b[43m.\u001b[49m\u001b[43m_writers\u001b[49m\u001b[43m,\u001b[49m\u001b[43m \u001b[49m\u001b[43m[\u001b[49m\u001b[43m]\u001b[49m\u001b[43m,\u001b[49m\u001b[43m \u001b[49m\u001b[43mtimeout\u001b[49m\u001b[43m)\u001b[49m\n\u001b[32m    315\u001b[39m \u001b[38;5;28;01mexcept\u001b[39;00m \u001b[38;5;167;01mInterruptedError\u001b[39;00m:\n\u001b[32m    316\u001b[39m     \u001b[38;5;28;01mreturn\u001b[39;00m ready\n",
      "\u001b[36mFile \u001b[39m\u001b[32mc:\\Users\\eguzk\\anaconda3\\envs\\TFM\\Lib\\selectors.py:305\u001b[39m, in \u001b[36mSelectSelector._select\u001b[39m\u001b[34m(self, r, w, _, timeout)\u001b[39m\n\u001b[32m    304\u001b[39m \u001b[38;5;28;01mdef\u001b[39;00m\u001b[38;5;250m \u001b[39m\u001b[34m_select\u001b[39m(\u001b[38;5;28mself\u001b[39m, r, w, _, timeout=\u001b[38;5;28;01mNone\u001b[39;00m):\n\u001b[32m--> \u001b[39m\u001b[32m305\u001b[39m     r, w, x = \u001b[43mselect\u001b[49m\u001b[43m.\u001b[49m\u001b[43mselect\u001b[49m\u001b[43m(\u001b[49m\u001b[43mr\u001b[49m\u001b[43m,\u001b[49m\u001b[43m \u001b[49m\u001b[43mw\u001b[49m\u001b[43m,\u001b[49m\u001b[43m \u001b[49m\u001b[43mw\u001b[49m\u001b[43m,\u001b[49m\u001b[43m \u001b[49m\u001b[43mtimeout\u001b[49m\u001b[43m)\u001b[49m\n\u001b[32m    306\u001b[39m     \u001b[38;5;28;01mreturn\u001b[39;00m r, w + x, []\n",
      "\u001b[31mKeyboardInterrupt\u001b[39m: "
     ]
    }
   ],
   "source": [
    "from ragas.evaluation import evaluate\n",
    "from ragas.metrics import   AnswerRelevancy,ContextPrecision,Faithfulness\n",
    "from ragas.llms import LangchainLLMWrapper\n",
    "from langchain.embeddings import HuggingFaceEmbeddings\n",
    "\n",
    "\n",
    "# Cargar modelo de embeddings open-source\n",
    "embeddings = HuggingFaceEmbeddings(model_name=\"sentence-transformers/all-MiniLM-L6-v2\")\n",
    "\n",
    "# Envolver el modelo local\n",
    "local_llm = ChatOllama(model=\"llama3.2\", temperature=0)\n",
    "wrapped_llm = LangchainLLMWrapper(local_llm)\n",
    "\n",
    "metrics = [AnswerRelevancy(),Faithfulness(), ContextPrecision()]\n",
    "#faithfulness needs ['retrieved_contexts']\n",
    "#ContextPrecision needs reference\n",
    "# Ejecutar la evaluación\n",
    "result_eval = evaluate(\n",
    "    ragas_dataset,\n",
    "    metrics=metrics,\n",
    "    llm=wrapped_llm,\n",
    "    embeddings=embeddings , \n",
    "    batch_size  = 1, #for each metric it is used the LLM sometimes more than once\n",
    "     #  (more that one prompt) so this way it is only applied one prompt each\n",
    "\n",
    "\n",
    ")\n",
    "#0.954384\t1.0\t1.0\n",
    "# Visualizar resultados\n",
    "result_eval.to_pandas()"
   ]
  },
  {
   "cell_type": "code",
   "execution_count": null,
   "id": "03444f73",
   "metadata": {},
   "outputs": [],
   "source": [
    "from ragas.llms import LangchainLLMWrapper\n",
    "from langchain_ollama.chat_models import ChatOllama\n",
    "\n",
    "\n",
    "# ── wrapper que imprime los prompts que recibe ────────────────────────────\n",
    "class DebugWrapper(LangchainLLMWrapper):\n",
    "    async def agenerate(self, prompts, **kwargs):\n",
    "        print(\"\\n\\n🔹 PROMPTS ENVIADOS AL LLM EVALUADOR 🔹\")\n",
    "        for i, p in enumerate(prompts):\n",
    "            # muestra los 400 primeros caracteres para no saturar\n",
    "            print(f\"\\n--- prompt {i+1} ({len(p.split())} tokens) ---\\n{p[:400]}…\")\n",
    "        # llama al método original para no romper el flujo\n",
    "        return await super().agenerate(prompts, **kwargs)\n",
    "\n",
    "# usa el wrapper-debug\n",
    "wrapped_debug_llm = DebugWrapper(local_llm)\n"
   ]
  }
 ],
 "metadata": {
  "kernelspec": {
   "display_name": "TFM",
   "language": "python",
   "name": "python3"
  },
  "language_info": {
   "codemirror_mode": {
    "name": "ipython",
    "version": 3
   },
   "file_extension": ".py",
   "mimetype": "text/x-python",
   "name": "python",
   "nbconvert_exporter": "python",
   "pygments_lexer": "ipython3",
   "version": "3.13.2"
  }
 },
 "nbformat": 4,
 "nbformat_minor": 5
}
