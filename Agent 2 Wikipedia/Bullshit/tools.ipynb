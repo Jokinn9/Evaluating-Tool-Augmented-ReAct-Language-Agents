{
 "cells": [
  {
   "cell_type": "code",
   "execution_count": 1,
   "id": "c7ed5add",
   "metadata": {},
   "outputs": [
    {
     "name": "stdout",
     "output_type": "stream",
     "text": [
      "Search error: HTTPSConnectionPool(host='en.wikipedia.org', port=443): Max retries exceeded with url: /w/api.php?action=query&list=search&srsearch=Current+president+of+France&format=json (Caused by SSLError(SSLCertVerificationError(1, '[SSL: CERTIFICATE_VERIFY_FAILED] certificate verify failed: self-signed certificate in certificate chain (_ssl.c:1006)')))\n"
     ]
    }
   ],
   "source": [
    "import requests\n",
    "\n",
    "def search_wikipedia_current(query: str) -> str:\n",
    "    \"\"\"\n",
    "    Performs a search using the Wikipedia API and returns the summary of the top result.\n",
    "    This allows the agent to discover factual information based on the search query,\n",
    "    without assuming the answer in advance.\n",
    "    \"\"\"\n",
    "    try:\n",
    "        # Step 1: Search for relevant Wikipedia pages\n",
    "        search_url = \"https://en.wikipedia.org/w/api.php\"\n",
    "        params = {\n",
    "            \"action\": \"query\",\n",
    "            \"list\": \"search\",\n",
    "            \"srsearch\": query,\n",
    "            \"format\": \"json\"\n",
    "        }\n",
    "        response = requests.get(search_url, params=params, timeout=10)\n",
    "        print(response,\"\\n\")\n",
    "        response.raise_for_status()\n",
    "        data = response.json()\n",
    "        print(data,\"\\n\")\n",
    "\n",
    "        search_results = data.get(\"query\", {}).get(\"search\", [])\n",
    "        if not search_results:\n",
    "            return \"No relevant results found.\"\n",
    "\n",
    "        # Step 2: Get the title of the first result\n",
    "        page_title = search_results[0][\"title\"]\n",
    "\n",
    "        # Step 3: Retrieve the summary of the selected Wikipedia page\n",
    "        summary_url = f\"https://en.wikipedia.org/api/rest_v1/page/summary/{page_title.replace(' ', '_')}\"\n",
    "        summary_response = requests.get(summary_url, timeout=10)\n",
    "        summary_response.raise_for_status()\n",
    "        summary_data = summary_response.json()\n",
    "\n",
    "        return summary_data.get(\"extract\", \"No summary found.\")\n",
    "    \n",
    "    except Exception as e:\n",
    "        return f\"Search error: {e}\"\n",
    "result = search_wikipedia_current(\"Current president of France\")\n",
    "print(result)"
   ]
  },
  {
   "cell_type": "code",
   "execution_count": 2,
   "id": "152d207e",
   "metadata": {},
   "outputs": [
    {
     "name": "stdout",
     "output_type": "stream",
     "text": [
      "Error: HTTPSConnectionPool(host='en.wikipedia.org', port=443): Max retries exceeded with url: /w/api.php?action=query&list=search&srsearch=President+of+Argentina&format=json (Caused by SSLError(SSLCertVerificationError(1, '[SSL: CERTIFICATE_VERIFY_FAILED] certificate verify failed: self-signed certificate in certificate chain (_ssl.c:1006)')))\n"
     ]
    }
   ],
   "source": [
    "import requests\n",
    "import re\n",
    "\n",
    "def extract_capitalized_pairs(text: str) -> list:\n",
    "    \"\"\"\n",
    "    Extrae pares de palabras consecutivas que empiezan con mayúscula.\n",
    "    \"\"\"\n",
    "    pattern = r\"\\b([A-Z][a-z]+)\\s([A-Z][a-z]+)\\b\"\n",
    "    matches = re.findall(pattern, text)\n",
    "    return [\" \".join(pair) for pair in matches]\n",
    "\n",
    "import requests\n",
    "import re\n",
    "from html import unescape\n",
    "\n",
    "def get_clean_snippets_text(country: str) -> str:\n",
    "    try:\n",
    "        search_url = \"https://en.wikipedia.org/w/api.php\"\n",
    "        query = f\"President of {country}\"\n",
    "        params = {\n",
    "            \"action\": \"query\",\n",
    "            \"list\": \"search\",\n",
    "            \"srsearch\": query,\n",
    "            \"format\": \"json\"\n",
    "        }\n",
    "\n",
    "        response = requests.get(search_url, params=params, timeout=10)\n",
    "        response.raise_for_status()\n",
    "        search_data = response.json()\n",
    "\n",
    "        # Extraer todos los snippets\n",
    "        results = search_data.get(\"query\", {}).get(\"search\", [])\n",
    "        all_snippets = \" \".join(entry.get(\"snippet\", \"\") for entry in results)\n",
    "\n",
    "        # Quitar etiquetas HTML como <span class=\"...\"> y </span>\n",
    "        clean_text = re.sub(r\"<.*?>\", \"\", all_snippets)\n",
    "\n",
    "        # Convertir entidades HTML (como &quot;) a texto normal\n",
    "        clean_text = unescape(clean_text)\n",
    "\n",
    "        return clean_text.strip()\n",
    "\n",
    "    except Exception as e:\n",
    "        return f\"Error: {e}\"\n",
    "\n",
    "# Ejemplo de uso\n",
    "print(get_clean_snippets_text(\"Argentina\"))"
   ]
  },
  {
   "cell_type": "code",
   "execution_count": 6,
   "id": "ba673051",
   "metadata": {},
   "outputs": [
    {
     "name": "stderr",
     "output_type": "stream",
     "text": [
      "c:\\Users\\eseguzkijo\\AppData\\Local\\miniconda3\\envs\\TFM2\\Lib\\site-packages\\urllib3\\connectionpool.py:1097: InsecureRequestWarning: Unverified HTTPS request is being made to host 'en.wikipedia.org'. Adding certificate verification is strongly advised. See: https://urllib3.readthedocs.io/en/latest/advanced-usage.html#tls-warnings\n",
      "  warnings.warn(\n"
     ]
    },
    {
     "name": "stdout",
     "output_type": "stream",
     "text": [
      "Angela Dorothea Merkel is a German retired politician who served as Chancellor of Germany from 2005 to 2021. She is the only woman to have held the office. She was Leader of the Opposition from 2002 to 2005 and Leader of the Christian Democratic Union (CDU) from 2000 to 2018.\n"
     ]
    },
    {
     "name": "stderr",
     "output_type": "stream",
     "text": [
      "c:\\Users\\eseguzkijo\\AppData\\Local\\miniconda3\\envs\\TFM2\\Lib\\site-packages\\urllib3\\connectionpool.py:1097: InsecureRequestWarning: Unverified HTTPS request is being made to host 'en.wikipedia.org'. Adding certificate verification is strongly advised. See: https://urllib3.readthedocs.io/en/latest/advanced-usage.html#tls-warnings\n",
      "  warnings.warn(\n"
     ]
    },
    {
     "name": "stdout",
     "output_type": "stream",
     "text": [
      "Shakira Isabel Mebarak Ripoll, known mononymously as Shakira, is a Colombian singer-songwriter. She has had a significant impact on the musical landscape of Latin America and has been credited with popularizing Hispanophone music on a global level. The recipient of various accolades, she has won four Grammy Awards and fifteen Latin Grammy Awards, including three Song of the Year wins.\n",
      "Barack Hussein Obama II is an American politician who was the 44th president of the United States from 2009 to 2017. A member of the Democratic Party, he was the first African American president in American history. Obama previously served as a U.S. senator representing Illinois from 2005 to 2008 and as an Illinois state senator from 1997 to 2004.\n"
     ]
    },
    {
     "name": "stderr",
     "output_type": "stream",
     "text": [
      "c:\\Users\\eseguzkijo\\AppData\\Local\\miniconda3\\envs\\TFM2\\Lib\\site-packages\\urllib3\\connectionpool.py:1097: InsecureRequestWarning: Unverified HTTPS request is being made to host 'en.wikipedia.org'. Adding certificate verification is strongly advised. See: https://urllib3.readthedocs.io/en/latest/advanced-usage.html#tls-warnings\n",
      "  warnings.warn(\n"
     ]
    }
   ],
   "source": [
    "def get_summary_of(person: str) -> str:\n",
    "    \"\"\"\n",
    "    Returns a short summary of a famous person from Wikipedia.\n",
    "    \"\"\"\n",
    "    try:\n",
    "        title = person.replace(\" \", \"_\")\n",
    "        url = f\"https://en.wikipedia.org/api/rest_v1/page/summary/{title}\"\n",
    "        response = requests.get(url, timeout=10,verify=False)\n",
    "        response.raise_for_status()\n",
    "        data = response.json()\n",
    "\n",
    "        return data.get(\"extract\", \"No summary available.\")\n",
    "    \n",
    "    except Exception as e:\n",
    "        return f\"Error: {e}\"\n",
    "print(get_summary_of(\"Angela Merkel\"))\n",
    "print(get_summary_of(\"Shakira\"))\n",
    "print(get_summary_of(\"Barack Obama\"))\n"
   ]
  },
  {
   "cell_type": "code",
   "execution_count": 13,
   "id": "e3e5151c",
   "metadata": {},
   "outputs": [],
   "source": [
    "import requests\n",
    "\n",
    "def get_current_president_of(country: str) -> str:\n",
    "    \"\"\"\n",
    "    Returns the name of the current president of a given country using Wikidata.\n",
    "    \"\"\"\n",
    "    try:\n",
    "        # Step 1: Get Wikidata ID for the country\n",
    "        search_url = \"https://www.wikidata.org/w/api.php\"\n",
    "        search_params = {\n",
    "            \"action\": \"wbsearchentities\",\n",
    "            \"search\": country,\n",
    "            \"language\": \"en\",\n",
    "            \"format\": \"json\",\n",
    "            \"type\": \"item\"\n",
    "        }\n",
    "        search_resp = requests.get(search_url, params=search_params, timeout=10,verify=False)\n",
    "        search_resp.raise_for_status()\n",
    "        search_data = search_resp.json()\n",
    "        entity_id = search_data[\"search\"][0][\"id\"]\n",
    "\n",
    "        # Step 2: Query president (P35) of the country entity\n",
    "        sparql_url = \"https://query.wikidata.org/sparql\"\n",
    "        query = f\"\"\"\n",
    "        SELECT ?presidentLabel WHERE {{\n",
    "          wd:{entity_id} wdt:P35 ?president.\n",
    "          SERVICE wikibase:label {{ bd:serviceParam wikibase:language \"en\". }}\n",
    "        }}\n",
    "        \"\"\"\n",
    "        headers = {\"Accept\": \"application/sparql-results+json\"}\n",
    "        sparql_resp = requests.get(sparql_url, params={\"query\": query}, headers=headers, timeout=10,verify=False)\n",
    "        sparql_resp.raise_for_status()\n",
    "        result = sparql_resp.json()\n",
    "        bindings = result[\"results\"][\"bindings\"]\n",
    "\n",
    "        if not bindings:\n",
    "            return \"President not found.\"\n",
    "        return bindings[0][\"presidentLabel\"][\"value\"]\n",
    "\n",
    "    except Exception as e:  \n",
    "        return f\"Error: {e}\"\n"
   ]
  },
  {
   "cell_type": "code",
   "execution_count": 14,
   "id": "edacd2f5",
   "metadata": {},
   "outputs": [
    {
     "name": "stderr",
     "output_type": "stream",
     "text": [
      "c:\\Users\\eseguzkijo\\AppData\\Local\\miniconda3\\envs\\TFM2\\Lib\\site-packages\\urllib3\\connectionpool.py:1097: InsecureRequestWarning: Unverified HTTPS request is being made to host 'www.wikidata.org'. Adding certificate verification is strongly advised. See: https://urllib3.readthedocs.io/en/latest/advanced-usage.html#tls-warnings\n",
      "  warnings.warn(\n",
      "c:\\Users\\eseguzkijo\\AppData\\Local\\miniconda3\\envs\\TFM2\\Lib\\site-packages\\urllib3\\connectionpool.py:1097: InsecureRequestWarning: Unverified HTTPS request is being made to host 'query.wikidata.org'. Adding certificate verification is strongly advised. See: https://urllib3.readthedocs.io/en/latest/advanced-usage.html#tls-warnings\n",
      "  warnings.warn(\n"
     ]
    },
    {
     "name": "stdout",
     "output_type": "stream",
     "text": [
      "Javier Milei\n"
     ]
    },
    {
     "name": "stderr",
     "output_type": "stream",
     "text": [
      "c:\\Users\\eseguzkijo\\AppData\\Local\\miniconda3\\envs\\TFM2\\Lib\\site-packages\\urllib3\\connectionpool.py:1097: InsecureRequestWarning: Unverified HTTPS request is being made to host 'www.wikidata.org'. Adding certificate verification is strongly advised. See: https://urllib3.readthedocs.io/en/latest/advanced-usage.html#tls-warnings\n",
      "  warnings.warn(\n",
      "c:\\Users\\eseguzkijo\\AppData\\Local\\miniconda3\\envs\\TFM2\\Lib\\site-packages\\urllib3\\connectionpool.py:1097: InsecureRequestWarning: Unverified HTTPS request is being made to host 'query.wikidata.org'. Adding certificate verification is strongly advised. See: https://urllib3.readthedocs.io/en/latest/advanced-usage.html#tls-warnings\n",
      "  warnings.warn(\n"
     ]
    },
    {
     "name": "stdout",
     "output_type": "stream",
     "text": [
      "Emmanuel Macron\n"
     ]
    },
    {
     "name": "stderr",
     "output_type": "stream",
     "text": [
      "c:\\Users\\eseguzkijo\\AppData\\Local\\miniconda3\\envs\\TFM2\\Lib\\site-packages\\urllib3\\connectionpool.py:1097: InsecureRequestWarning: Unverified HTTPS request is being made to host 'www.wikidata.org'. Adding certificate verification is strongly advised. See: https://urllib3.readthedocs.io/en/latest/advanced-usage.html#tls-warnings\n",
      "  warnings.warn(\n"
     ]
    },
    {
     "name": "stdout",
     "output_type": "stream",
     "text": [
      "Frank-Walter Steinmeier\n"
     ]
    },
    {
     "name": "stderr",
     "output_type": "stream",
     "text": [
      "c:\\Users\\eseguzkijo\\AppData\\Local\\miniconda3\\envs\\TFM2\\Lib\\site-packages\\urllib3\\connectionpool.py:1097: InsecureRequestWarning: Unverified HTTPS request is being made to host 'query.wikidata.org'. Adding certificate verification is strongly advised. See: https://urllib3.readthedocs.io/en/latest/advanced-usage.html#tls-warnings\n",
      "  warnings.warn(\n"
     ]
    }
   ],
   "source": [
    "print(get_current_president_of(\"Argentina\"))  # Javier Milei\n",
    "print(get_current_president_of(\"France\"))     # Emmanuel Macron\n",
    "print(get_current_president_of(\"Germany\"))    # Frank-Walter Steinmeier\n"
   ]
  }
 ],
 "metadata": {
  "kernelspec": {
   "display_name": "TFM2",
   "language": "python",
   "name": "python3"
  },
  "language_info": {
   "codemirror_mode": {
    "name": "ipython",
    "version": 3
   },
   "file_extension": ".py",
   "mimetype": "text/x-python",
   "name": "python",
   "nbconvert_exporter": "python",
   "pygments_lexer": "ipython3",
   "version": "3.11.11"
  }
 },
 "nbformat": 4,
 "nbformat_minor": 5
}
