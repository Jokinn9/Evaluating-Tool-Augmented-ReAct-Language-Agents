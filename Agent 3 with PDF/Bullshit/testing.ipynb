{
 "cells": [
  {
   "cell_type": "code",
   "execution_count": 1,
   "id": "4bf942a1",
   "metadata": {},
   "outputs": [
    {
     "data": {
      "text/plain": [
       "{'user_input': 'Describe gold',\n",
       " 'retrieved_contexts': ['Gold is a chemical element; it has chemical symbol Au and atomic number 79. In its pure form, it is a bright, slightly orange-yellow, dense, soft, malleable, and ductile metal. Chemically, gold is a transition metal, a group 11 element, and one of the noble metals. It is one of the least reactive chemical elements, being the second-lowest in the reactivity series. It is solid under standard conditions.'],\n",
       " 'reference_contexts': None,\n",
       " 'response': \"Is there anything else you'd like to know about gold?\",\n",
       " 'multi_responses': None,\n",
       " 'reference': None,\n",
       " 'rubrics': None}"
      ]
     },
     "execution_count": 1,
     "metadata": {},
     "output_type": "execute_result"
    }
   ],
   "source": [
    "import json\n",
    "with open(\"Results/ragas_sample_v2.json\", \"r\", encoding=\"utf-8\") as f:\n",
    "    data = json.load(f)\n",
    "data[0]\n"
   ]
  },
  {
   "cell_type": "code",
   "execution_count": 2,
   "id": "74e5e748",
   "metadata": {},
   "outputs": [
    {
     "name": "stderr",
     "output_type": "stream",
     "text": [
      "c:\\Users\\eguzk\\anaconda3\\envs\\tfm_env\\lib\\site-packages\\tqdm\\auto.py:21: TqdmWarning: IProgress not found. Please update jupyter and ipywidgets. See https://ipywidgets.readthedocs.io/en/stable/user_install.html\n",
      "  from .autonotebook import tqdm as notebook_tqdm\n"
     ]
    }
   ],
   "source": [
    "from ragas import EvaluationDataset\n",
    "ragas_dataset = EvaluationDataset.from_list(data)"
   ]
  },
  {
   "cell_type": "code",
   "execution_count": null,
   "id": "364c0e8e",
   "metadata": {},
   "outputs": [],
   "source": [
    "from ragas import SingleTurnSample\n",
    "from ragas.metrics import LLMContextPrecisionWithoutReference\n",
    "from langchain.embeddings import HuggingFaceEmbeddings\n",
    "from langchain_community.llms import Ollama\n",
    "from ragas.llms import LangchainLLMWrapper\n",
    "\n",
    "# Modelos\n",
    "embeddings = HuggingFaceEmbeddings(model_name=\"sentence-transformers/all-MiniLM-L6-v2\")\n",
    "local_llm = Ollama(model=\"mistral\", temperature=0, timeout=60000)\n",
    "wrapped_llm = LangchainLLMWrapper(local_llm)\n",
    "\n",
    "# Métrica\n",
    "context_precision = LLMContextPrecisionWithoutReference(llm=wrapped_llm)\n",
    "\n",
    "# Dataset simulado (puede venir de un JSON o de un DataFrame)\n",
    "dataset = [\n",
    "    {\n",
    "        \"user_input\": \"Describe gold\",\n",
    "        \"response\": \"Is there anything else you'd like to know about gold?\",\n",
    "        \"retrieved_contexts\": [\"Gold is a chemical element with symbol Au and atomic number 79...\"]\n",
    "    },\n",
    "    {\n",
    "        \"user_input\": \"What is copper used for?\",\n",
    "        \"response\": \"Copper is widely used in electronics and construction.\",\n",
    "        \"retrieved_contexts\": [\"Copper is used in wires, pipes, electronics, and motors...\"]\n",
    "    }\n",
    "]\n",
    "\n",
    "# Evaluar uno por uno\n",
    "import asyncio\n",
    "\n",
    "async def eval_context_precision(data):\n",
    "    results = []\n",
    "    for item in data:\n",
    "        sample = SingleTurnSample(\n",
    "            user_input=item[\"user_input\"],\n",
    "            response=item[\"response\"],\n",
    "            retrieved_contexts=item[\"retrieved_contexts\"]\n",
    "        )\n",
    "        score = await context_precision.single_turn_ascore(sample)\n",
    "        results.append(score)\n",
    "    return results\n",
    "\n",
    "scores = asyncio.run(eval_context_precision(dataset))\n",
    "\n",
    "# Imprimir o guardar resultados\n",
    "for i, score in enumerate(scores):\n",
    "    print(f\"Sample {i} - Context Precision: {score:.4f}\")\n"
   ]
  },
  {
   "cell_type": "code",
   "execution_count": null,
   "id": "ffe2e834",
   "metadata": {},
   "outputs": [],
   "source": [
    "data=[{'user_input': 'Describe gold',\n",
    " 'retrieved_contexts': ['Gold is a chemical element; it has chemical symbol Au and atomic number 79. In its pure form, it is a bright, slightly orange-yellow, dense, soft, malleable, and ductile metal. Chemically, gold is a transition metal, a group 11 element, and one of the noble metals. It is one of the least reactive chemical elements, being the second-lowest in the reactivity series. It is solid under standard conditions.'],\n",
    " 'reference_contexts': None,\n",
    " 'response': \"Is there anything else you'd like to know about gold?\",\n",
    " 'multi_responses': None,\n",
    " 'reference': 'Gold is a chemical element; it has chemical symbol Au and atomic number 79. In its pure form, it is a bright, slightly orange-yellow, dense, soft, malleable, and ductile metal. Chemically, gold is a transition metal, a group 11 element, and one of the noble metals. It is one of the least reactive chemical elements, being the second-lowest in the reactivity series. It is solid under standard conditions.',\n",
    " 'rubrics': None}]"
   ]
  },
  {
   "cell_type": "code",
   "execution_count": null,
   "id": "ceeb79f7",
   "metadata": {},
   "outputs": [],
   "source": [
    "sample = SingleTurnSample(\n",
    "    user_input='Describe gold',\n",
    "    response= \"Gold is used in jewelry and also cures cancer.\",\n",
    "    retrieved_contexts=[\"Gold is a yellow metal used in electronics and jewelry.\"],\n",
    "    reference= 'Gold is a chemical element; it has chemical symbol Au and atomic number 79. In its pure form, it is a bright, slightly orange-yellow, dense, soft, malleable, and ductile metal. Chemically, gold is a transition metal, a group 11 element, and one of the noble metals. It is one of the least reactive chemical elements, being the second-lowest in the reactivity series. It is solid under standard conditions.'\n",
    ")"
   ]
  },
  {
   "cell_type": "markdown",
   "id": "9307e8e1",
   "metadata": {},
   "source": [
    "### Context precision"
   ]
  },
  {
   "cell_type": "code",
   "execution_count": null,
   "id": "8fbf63d5",
   "metadata": {},
   "outputs": [
    {
     "data": {
      "text/plain": [
       "0.0"
      ]
     },
     "execution_count": 36,
     "metadata": {},
     "output_type": "execute_result"
    }
   ],
   "source": [
    "from ragas import SingleTurnSample\n",
    "from ragas.metrics import LLMContextPrecisionWithoutReference,LLMContextPrecisionWithReference\n",
    "from ragas.llms import LangchainLLMWrapper\n",
    "from langchain.embeddings import HuggingFaceEmbeddings\n",
    "from langchain_community.llms import Ollama\n",
    "\n",
    "\n",
    "embeddings = HuggingFaceEmbeddings(model_name=\"sentence-transformers/all-MiniLM-L6-v2\")\n",
    "\n",
    "# Envolver el modelo local\n",
    "local_llm = Ollama(model=\"mistral\", temperature=0,timeout=60000)\n",
    "wrapped_llm = LangchainLLMWrapper(local_llm)\n",
    "context_precision = LLMContextPrecisionWithoutReference(llm=wrapped_llm)\n",
    "\n",
    "\n",
    "\n",
    "await context_precision.single_turn_ascore(sample)\n"
   ]
  },
  {
   "cell_type": "markdown",
   "id": "92d629b0",
   "metadata": {},
   "source": [
    "### Faithfullness"
   ]
  },
  {
   "cell_type": "code",
   "execution_count": null,
   "id": "4be5f667",
   "metadata": {},
   "outputs": [
    {
     "data": {
      "text/plain": [
       "0.5"
      ]
     },
     "execution_count": 37,
     "metadata": {},
     "output_type": "execute_result"
    }
   ],
   "source": [
    "from ragas.metrics import Faithfulness\n",
    "scorer = Faithfulness(llm=wrapped_llm)\n",
    "await scorer.single_turn_ascore(sample)"
   ]
  },
  {
   "cell_type": "markdown",
   "id": "7b688f6e",
   "metadata": {},
   "source": [
    "### Answer relevancy"
   ]
  },
  {
   "cell_type": "code",
   "execution_count": null,
   "id": "e9fb1718",
   "metadata": {},
   "outputs": [
    {
     "data": {
      "text/plain": [
       "np.float64(0.0)"
      ]
     },
     "execution_count": 38,
     "metadata": {},
     "output_type": "execute_result"
    }
   ],
   "source": [
    "from ragas.metrics import ResponseRelevancy\n",
    "from ragas.embeddings import LangchainEmbeddingsWrapper\n",
    "\n",
    "embeddings = HuggingFaceEmbeddings(model_name=\"sentence-transformers/all-MiniLM-L6-v2\")\n",
    "ragas_embeddings = LangchainEmbeddingsWrapper(embeddings)\n",
    "scorer = ResponseRelevancy(llm=wrapped_llm, embeddings=ragas_embeddings)\n",
    "await scorer.single_turn_ascore(sample)"
   ]
  },
  {
   "cell_type": "code",
   "execution_count": null,
   "id": "b3616098",
   "metadata": {},
   "outputs": [
    {
     "name": "stderr",
     "output_type": "stream",
     "text": [
      "c:\\Users\\eguzk\\anaconda3\\envs\\tfm_env\\lib\\site-packages\\tqdm\\auto.py:21: TqdmWarning: IProgress not found. Please update jupyter and ipywidgets. See https://ipywidgets.readthedocs.io/en/stable/user_install.html\n",
      "  from .autonotebook import tqdm as notebook_tqdm\n"
     ]
    },
    {
     "data": {
      "text/plain": [
       "(0, 0.5, 0, 0.2)"
      ]
     },
     "execution_count": 2,
     "metadata": {},
     "output_type": "execute_result"
    }
   ],
   "source": [
    "from ragas import SingleTurnSample\n",
    "\n",
    "sample2 = SingleTurnSample(\n",
    "    user_input='Describe gold',\n",
    "    response= \"Gold is a yellow metal used in electronics and jewelry.\",\n",
    "    retrieved_contexts=[\"Gold is a yellow metal used in electronics and jewelry.\"],\n",
    "    reference= 'Gold is a chemical element; it has chemical symbol Au and atomic number 79. In its pure form, it is a bright, slightly orange-yellow, dense, soft, malleable, and ductile metal. Chemically, gold is a transition metal, a group 11 element, and one of the noble metals. It is one of the least reactive chemical elements, being the second-lowest in the reactivity series. It is solid under standard conditions.'\n",
    ")\n",
    "#ContextPrecision,Faithfulness,AnswerRelevancy,Recall\n",
    "1,1,0.64,1\n",
    "\n",
    "sample = SingleTurnSample(\n",
    "    user_input='Describe gold',\n",
    "    response= \"Gold is used in jewelry and also cures cancer.\",\n",
    "    retrieved_contexts=[\"Gold is a yellow metal used in electronics and jewelry.\"],\n",
    "    reference= 'Gold is a chemical element; it has chemical symbol Au and atomic number 79. In its pure form, it is a bright, slightly orange-yellow, dense, soft, malleable, and ductile metal. Chemically, gold is a transition metal, a group 11 element, and one of the noble metals. It is one of the least reactive chemical elements, being the second-lowest in the reactivity series. It is solid under standard conditions.'\n",
    ")\n",
    "#ContextPrecision,Faithfulness,AnswerRelevancy,Recall\n",
    "0,0.5,0,0.2"
   ]
  },
  {
   "cell_type": "code",
   "execution_count": null,
   "id": "a1fd2790",
   "metadata": {},
   "outputs": [
    {
     "name": "stderr",
     "output_type": "stream",
     "text": [
      "C:\\Users\\eguzk\\AppData\\Local\\Temp\\ipykernel_10612\\3439485010.py:14: LangChainDeprecationWarning: The class `Ollama` was deprecated in LangChain 0.3.1 and will be removed in 1.0.0. An updated version of the class exists in the :class:`~langchain-ollama package and should be used instead. To use it run `pip install -U :class:`~langchain-ollama` and import as `from :class:`~langchain_ollama import OllamaLLM``.\n",
      "  local_llm = Ollama(model=\"mistral\", temperature=0, timeout=60000)\n",
      "C:\\Users\\eguzk\\AppData\\Local\\Temp\\ipykernel_10612\\3439485010.py:17: LangChainDeprecationWarning: The class `HuggingFaceEmbeddings` was deprecated in LangChain 0.2.2 and will be removed in 1.0. An updated version of the class exists in the :class:`~langchain-huggingface package and should be used instead. To use it run `pip install -U :class:`~langchain-huggingface` and import as `from :class:`~langchain_huggingface import HuggingFaceEmbeddings``.\n",
      "  hf_embeddings = HuggingFaceEmbeddings(model_name=\"sentence-transformers/all-MiniLM-L6-v2\")\n"
     ]
    },
    {
     "name": "stdout",
     "output_type": "stream",
     "text": [
      "Scores: {'context_precision_no_ref': 0.9999999999, 'faithfulness': 1.0, 'answer_relevancy': np.float64(0.6405184043151523)}\n"
     ]
    }
   ],
   "source": [
    "# --- Imports\n",
    "from ragas.llms import LangchainLLMWrapper\n",
    "from ragas.embeddings import LangchainEmbeddingsWrapper\n",
    "from ragas.metrics import (\n",
    "    LLMContextPrecisionWithoutReference,\n",
    "    Faithfulness,\n",
    "    ResponseRelevancy,\n",
    ")\n",
    "\n",
    "from langchain.embeddings import HuggingFaceEmbeddings\n",
    "from langchain_community.llms import Ollama\n",
    "import asyncio\n",
    "\n",
    "local_llm = Ollama(model=\"mistral\", temperature=0, timeout=60000)\n",
    "wrapped_llm = LangchainLLMWrapper(local_llm)\n",
    "\n",
    "hf_embeddings = HuggingFaceEmbeddings(model_name=\"sentence-transformers/all-MiniLM-L6-v2\")\n",
    "ragas_embeddings = LangchainEmbeddingsWrapper(hf_embeddings)\n",
    "\n",
    "# --- Métricas\n",
    "metrics = {\n",
    "    \"context_precision_no_ref\": LLMContextPrecisionWithoutReference(llm=wrapped_llm),\n",
    "    \"faithfulness\": Faithfulness(llm=wrapped_llm),\n",
    "    \"answer_relevancy\": ResponseRelevancy(llm=wrapped_llm, embeddings=ragas_embeddings),\n",
    "}\n",
    "\n",
    "# --- Función asíncrona de evaluación\n",
    "async def evaluate(sample):\n",
    "    tasks = {name: metric.single_turn_ascore(sample) for name, metric in metrics.items()}\n",
    "    results = {name: await coro for name, coro in tasks.items()}\n",
    "    return results\n",
    "\n",
    "# --- Ejecutar y mostrar\n",
    "scores = asyncio.run(evaluate(sample2))\n",
    "print(\"Scores:\", scores)\n"
   ]
  }
 ],
 "metadata": {
  "kernelspec": {
   "display_name": "tfm_env",
   "language": "python",
   "name": "python3"
  },
  "language_info": {
   "codemirror_mode": {
    "name": "ipython",
    "version": 3
   },
   "file_extension": ".py",
   "mimetype": "text/x-python",
   "name": "python",
   "nbconvert_exporter": "python",
   "pygments_lexer": "ipython3",
   "version": "3.10.18"
  }
 },
 "nbformat": 4,
 "nbformat_minor": 5
}
